{
 "cells": [
  {
   "cell_type": "markdown",
   "metadata": {
    "id": "cB0M_Mk-Rym_"
   },
   "source": [
    "# Tensorflow\n",
    "Start with having tensorflow installened in the enwironment.\n",
    "\n",
    "## What is Tensorflow?\n",
    "New data structures: tensors - multi-dimensional arrays (0-D tensor: scalar, 1-D tensor: vector, 2-D tensor: matrix, and so on)\n",
    "Tensors can change shape – we can flatten matrix into vector, we can reshape matrix into 3-d tensor, etc.:"
   ]
  },
  {
   "cell_type": "code",
   "execution_count": 1,
   "metadata": {
    "colab": {
     "base_uri": "https://localhost:8080/"
    },
    "id": "jCvPvNZURynD",
    "outputId": "cd11b73d-4ee0-4c9f-b788-c0a0f6a3dbc7",
    "scrolled": true
   },
   "outputs": [
    {
     "name": "stdout",
     "output_type": "stream",
     "text": [
      "tf.Tensor(\n",
      "[[0. 0.]\n",
      " [0. 0.]], shape=(2, 2), dtype=float32)\n",
      "tf.Tensor(\n",
      "[[1. 1.]\n",
      " [1. 1.]], shape=(2, 2), dtype=float32)\n"
     ]
    }
   ],
   "source": [
    "import tensorflow as tf\n",
    "import numpy\n",
    "d = tf.zeros((2,2))\n",
    "e = tf.ones((2,2))\n",
    "print(d)\n",
    "print(e)"
   ]
  },
  {
   "cell_type": "markdown",
   "metadata": {
    "id": "W8Zeww8LRynF"
   },
   "source": [
    "See, these look like they are 2-D list, but in fact they are new data type -tensor. It has shape, 2-by-2 and type - these are real (Pyton data type float) numbers. Tensors have shape - dimensionality. \n",
    "\n",
    "    - The shape is defined by the length (number of elements) of each of the dimensions of a tensor.\n",
    "    - Axis or Dimension: A particular dimension of a tensor.\n",
    "    - Size: The total number of items in the tensor=the product of elements of shape vector\n",
    "    \n",
    "Tensors have data types (dtypes): int32/64), float, complex, uint8/16/32/64 (unsigned integer)\n",
    "     \n",
    "The rank of a tensor is the number of tensor dimensions:\n",
    "\n",
    "     - A scalar has rank 0,\n",
    "     - A vector has rank 1, \n",
    "     - A matrix is rank 2,\n",
    "     - 3 dim array has rank 3,\n",
    "     - A vector of 3 dimensional arrays has rank 4\n",
    "     - A matrix of 3 dim arrays has rank 5, etc. \n",
    "\n",
    "To undearst what a vector of 3 dim arrays is you should think of a 3 dim array with division into subarrays (i.e. it is subdivided into 3-dim arrays aka batches). The value of the first coordinate is index number of a subarray and coordinates 2,3,4 define 3 dim tensors.\n",
    "\n",
    "This is all ulike numbers that have no shape, rank, dimension, etc."
   ]
  },
  {
   "cell_type": "code",
   "execution_count": 2,
   "metadata": {
    "colab": {
     "base_uri": "https://localhost:8080/",
     "height": 217
    },
    "id": "JbfC8PfLRynG",
    "outputId": "2b820dd3-ccd6-4991-8f16-6361eaf21bfc"
   },
   "outputs": [
    {
     "name": "stdout",
     "output_type": "stream",
     "text": [
      "5\n"
     ]
    },
    {
     "ename": "AttributeError",
     "evalue": "'int' object has no attribute 'get_shape'",
     "output_type": "error",
     "traceback": [
      "\u001b[1;31m---------------------------------------------------------------------------\u001b[0m",
      "\u001b[1;31mAttributeError\u001b[0m                            Traceback (most recent call last)",
      "\u001b[1;32m<ipython-input-2-a8b776e2ba39>\u001b[0m in \u001b[0;36m<module>\u001b[1;34m\u001b[0m\n\u001b[0;32m      3\u001b[0m \u001b[0mc\u001b[0m \u001b[1;33m=\u001b[0m \u001b[0ma\u001b[0m\u001b[1;33m+\u001b[0m\u001b[0mb\u001b[0m\u001b[1;33m\u001b[0m\u001b[1;33m\u001b[0m\u001b[0m\n\u001b[0;32m      4\u001b[0m \u001b[0mprint\u001b[0m\u001b[1;33m(\u001b[0m\u001b[0mc\u001b[0m\u001b[1;33m)\u001b[0m\u001b[1;33m\u001b[0m\u001b[1;33m\u001b[0m\u001b[0m\n\u001b[1;32m----> 5\u001b[1;33m \u001b[0mprint\u001b[0m\u001b[1;33m(\u001b[0m\u001b[0mc\u001b[0m\u001b[1;33m.\u001b[0m\u001b[0mget_shape\u001b[0m\u001b[1;33m(\u001b[0m\u001b[1;33m)\u001b[0m\u001b[1;33m)\u001b[0m\u001b[1;33m\u001b[0m\u001b[1;33m\u001b[0m\u001b[0m\n\u001b[0m",
      "\u001b[1;31mAttributeError\u001b[0m: 'int' object has no attribute 'get_shape'"
     ]
    }
   ],
   "source": [
    "a = 2\n",
    "b = 3\n",
    "c = a+b\n",
    "print(c)\n",
    "print(c.get_shape())"
   ]
  },
  {
   "cell_type": "markdown",
   "metadata": {
    "id": "Jn_XQGHHRynG"
   },
   "source": [
    "numbers do not have shape - they are just python numbers, so no wonder we got error here. But we could do same addition of numbers and in the end get tensor. That is tf.add operation on 2 numbers conver them into tensors.  "
   ]
  },
  {
   "cell_type": "code",
   "execution_count": 3,
   "metadata": {
    "colab": {
     "base_uri": "https://localhost:8080/"
    },
    "id": "R2m_WA1pRynH",
    "outputId": "d4f9ee63-3aaa-4b2e-ba54-e46239a31cc8"
   },
   "outputs": [
    {
     "name": "stdout",
     "output_type": "stream",
     "text": [
      "tf.Tensor(5, shape=(), dtype=int32)\n"
     ]
    }
   ],
   "source": [
    "c1 = tf.add(a,b,name='Add')\n",
    "print(c1)"
   ]
  },
  {
   "cell_type": "markdown",
   "metadata": {
    "id": "dL1Ei5dwRynH"
   },
   "source": [
    "If you think that numbers cannot be tensors, then you are incorrect. I can define numbers as tesnors and do same oeration on them. The difference is I at the same time created a computational graph, that I can reuse."
   ]
  },
  {
   "cell_type": "code",
   "execution_count": 4,
   "metadata": {
    "colab": {
     "base_uri": "https://localhost:8080/"
    },
    "id": "rlSLya0yRynI",
    "outputId": "efe3b7d8-7a80-4678-e02c-476be68838d3",
    "scrolled": false
   },
   "outputs": [
    {
     "name": "stdout",
     "output_type": "stream",
     "text": [
      "()\n",
      "tf.Tensor(5, shape=(), dtype=int32)\n"
     ]
    }
   ],
   "source": [
    "import tensorflow as tf\n",
    "a1 = tf.constant(2)\n",
    "b1 = tf.constant(3)\n",
    "print(a1.get_shape())\n",
    "c2 = tf.add(a1,b1,name='Add')\n",
    "print(c2)"
   ]
  },
  {
   "cell_type": "markdown",
   "metadata": {
    "id": "jMhXF6tJRynI"
   },
   "source": [
    "I can reshape tensors and convert constant tesors to numbers applying conversion using numpy."
   ]
  },
  {
   "cell_type": "code",
   "execution_count": 5,
   "metadata": {
    "colab": {
     "base_uri": "https://localhost:8080/"
    },
    "id": "gAbYOcXARynK",
    "outputId": "f8b9d6f4-8d86-4535-dc32-9029c5d2ccfd",
    "scrolled": true
   },
   "outputs": [
    {
     "name": "stdout",
     "output_type": "stream",
     "text": [
      "tf.Tensor(\n",
      "[[0. 0.]\n",
      " [0. 0.]], shape=(2, 2), dtype=float32)\n",
      "tf.Tensor([[0. 0. 0. 0.]], shape=(1, 4), dtype=float32)\n",
      "2 \n",
      " [[0. 0.]\n",
      " [0. 0.]]\n"
     ]
    }
   ],
   "source": [
    "print(d)\n",
    "print(tf.reshape(d,(1,4)))\n",
    "a1=a1.numpy() #a1 now a number\n",
    "a2=d.numpy() #a2 is 2-D list\n",
    "print(a1, '\\n', a2)"
   ]
  },
  {
   "cell_type": "markdown",
   "metadata": {
    "id": "p1HS8noKRynK"
   },
   "source": [
    "see a1 and a2 are no longer tensors so they do not have shapes"
   ]
  },
  {
   "cell_type": "code",
   "execution_count": 6,
   "metadata": {
    "colab": {
     "base_uri": "https://localhost:8080/",
     "height": 165
    },
    "id": "2cv1rrL2RynL",
    "outputId": "814c6eb8-08a0-4ecc-c593-21c0bf2092f4"
   },
   "outputs": [
    {
     "ename": "AttributeError",
     "evalue": "'numpy.int32' object has no attribute 'get_shape'",
     "output_type": "error",
     "traceback": [
      "\u001b[1;31m---------------------------------------------------------------------------\u001b[0m",
      "\u001b[1;31mAttributeError\u001b[0m                            Traceback (most recent call last)",
      "\u001b[1;32m<ipython-input-6-312fec97b284>\u001b[0m in \u001b[0;36m<module>\u001b[1;34m\u001b[0m\n\u001b[1;32m----> 1\u001b[1;33m \u001b[0mprint\u001b[0m\u001b[1;33m(\u001b[0m\u001b[0ma1\u001b[0m\u001b[1;33m.\u001b[0m\u001b[0mget_shape\u001b[0m\u001b[1;33m(\u001b[0m\u001b[1;33m)\u001b[0m\u001b[1;33m)\u001b[0m\u001b[1;33m\u001b[0m\u001b[1;33m\u001b[0m\u001b[0m\n\u001b[0m",
      "\u001b[1;31mAttributeError\u001b[0m: 'numpy.int32' object has no attribute 'get_shape'"
     ]
    }
   ],
   "source": [
    "print(a1.get_shape())"
   ]
  },
  {
   "cell_type": "code",
   "execution_count": 7,
   "metadata": {
    "colab": {
     "base_uri": "https://localhost:8080/",
     "height": 165
    },
    "id": "Zg4BoS8iRynL",
    "outputId": "8a032bcf-fb23-4b20-f819-2c23fb7bb5ad",
    "scrolled": true
   },
   "outputs": [
    {
     "ename": "AttributeError",
     "evalue": "'numpy.ndarray' object has no attribute 'get_shape'",
     "output_type": "error",
     "traceback": [
      "\u001b[1;31m---------------------------------------------------------------------------\u001b[0m",
      "\u001b[1;31mAttributeError\u001b[0m                            Traceback (most recent call last)",
      "\u001b[1;32m<ipython-input-7-d4c838110e3f>\u001b[0m in \u001b[0;36m<module>\u001b[1;34m\u001b[0m\n\u001b[1;32m----> 1\u001b[1;33m \u001b[0mprint\u001b[0m\u001b[1;33m(\u001b[0m\u001b[0ma2\u001b[0m\u001b[1;33m.\u001b[0m\u001b[0mget_shape\u001b[0m\u001b[1;33m(\u001b[0m\u001b[1;33m)\u001b[0m\u001b[1;33m)\u001b[0m\u001b[1;33m\u001b[0m\u001b[1;33m\u001b[0m\u001b[0m\n\u001b[0m",
      "\u001b[1;31mAttributeError\u001b[0m: 'numpy.ndarray' object has no attribute 'get_shape'"
     ]
    }
   ],
   "source": [
    "print(a2.get_shape())"
   ]
  },
  {
   "cell_type": "code",
   "execution_count": 8,
   "metadata": {
    "colab": {
     "base_uri": "https://localhost:8080/"
    },
    "id": "5ZXiYDdYiCTq",
    "outputId": "ba11c243-3915-47e8-e409-a0b16a859a43"
   },
   "outputs": [
    {
     "name": "stdout",
     "output_type": "stream",
     "text": [
      "tf.Tensor(7.0, shape=(), dtype=float32)\n"
     ]
    }
   ],
   "source": [
    "tensor_3d=tf.constant([[[1,2],[3,4]],[[5,6],[7,8]]],dtype=float)\n",
    "print(tensor_3d[1,1,0]) # as always in python idexes start with 0"
   ]
  },
  {
   "cell_type": "markdown",
   "metadata": {
    "id": "K3Kq1qpBp7G6"
   },
   "source": [
    "We can also change data types of tensors (provided such re-typing is available in python itself) using cast/recast operation"
   ]
  },
  {
   "cell_type": "code",
   "execution_count": 9,
   "metadata": {
    "colab": {
     "base_uri": "https://localhost:8080/"
    },
    "id": "Mqb0EAcfqHsS",
    "outputId": "f39bbfe1-36e7-47b0-c15e-691d9121d1dc"
   },
   "outputs": [
    {
     "name": "stdout",
     "output_type": "stream",
     "text": [
      "tf.Tensor(\n",
      "[[[1 2]\n",
      "  [3 4]]\n",
      "\n",
      " [[5 6]\n",
      "  [7 8]]], shape=(2, 2, 2), dtype=int32)\n"
     ]
    }
   ],
   "source": [
    "tensor_3d_int= tf.cast(tensor_3d, tf.int32)\n",
    "print(tensor_3d_int)"
   ]
  },
  {
   "cell_type": "markdown",
   "metadata": {
    "id": "NB38XOCi_qiG"
   },
   "source": [
    "I create data types one from another. For example I can create  list of complex numbers as follows:"
   ]
  },
  {
   "cell_type": "code",
   "execution_count": 10,
   "metadata": {
    "colab": {
     "base_uri": "https://localhost:8080/"
    },
    "id": "YJ4m81RY_wce",
    "outputId": "5dcef70e-faa7-435f-9bac-a1462cb40d48"
   },
   "outputs": [
    {
     "name": "stdout",
     "output_type": "stream",
     "text": [
      "tf.Tensor([2.25+4.75j 3.25+5.75j], shape=(2,), dtype=complex64)\n"
     ]
    }
   ],
   "source": [
    "real = tf.constant([2.25, 3.25])\n",
    "imag = tf.constant([4.75, 5.75])\n",
    "y=tf.complex(real, imag) \n",
    "print(y)"
   ]
  },
  {
   "cell_type": "markdown",
   "metadata": {
    "id": "d9XvRtx2RynL"
   },
   "source": [
    "Operations on tenrsors ‘*’ is product of two tensors means elementwise multiplication, + elementwise addition, tf.matmul or @-matrix multiplication"
   ]
  },
  {
   "cell_type": "code",
   "execution_count": 11,
   "metadata": {
    "colab": {
     "base_uri": "https://localhost:8080/"
    },
    "id": "0jBO7M4FRynM",
    "outputId": "86429c90-3eb8-4856-d468-c12083abd9db"
   },
   "outputs": [
    {
     "name": "stdout",
     "output_type": "stream",
     "text": [
      "tf.Tensor([[ 13 249]], shape=(1, 2), dtype=int32)\n"
     ]
    }
   ],
   "source": [
    "b=tf.constant([1,2])\n",
    "A1 = tf.constant([[2, 24], [2, 26], [2, 57]])\n",
    "x = [[1, 2, 3]]\n",
    "C1 = tf.matmul(x, A1)+b\n",
    "print(C1)"
   ]
  },
  {
   "cell_type": "markdown",
   "metadata": {
    "id": "VMZDgIXYn8Jq"
   },
   "source": [
    "Same with @ multiplication"
   ]
  },
  {
   "cell_type": "code",
   "execution_count": 12,
   "metadata": {
    "colab": {
     "base_uri": "https://localhost:8080/"
    },
    "id": "am1WjjHfRynM",
    "outputId": "59264d66-d7d6-4a07-b569-b990e639840a",
    "scrolled": true
   },
   "outputs": [
    {
     "name": "stdout",
     "output_type": "stream",
     "text": [
      "tf.Tensor([[ 13 249]], shape=(1, 2), dtype=int32)\n"
     ]
    }
   ],
   "source": [
    "y = x @ A1 + b\n",
    "#print(w,'\\n')\n",
    "print(y)"
   ]
  },
  {
   "cell_type": "markdown",
   "metadata": {
    "id": "q2nLiXAyRynM"
   },
   "source": [
    "Broadcatsing: under certain conditions, smaller tensors are \"stretched\" automatically to fit larger tensors when running combined operations on them. The simplest and most common case is when you attempt to multiply or add a tensor to a scalar 1 dim scalar by 2 dim, etc."
   ]
  },
  {
   "cell_type": "code",
   "execution_count": 13,
   "metadata": {
    "colab": {
     "base_uri": "https://localhost:8080/"
    },
    "id": "33kAKEm5RynN",
    "outputId": "cfde6ac8-2e8c-48a6-83c8-3bf5a11ecef2",
    "scrolled": true
   },
   "outputs": [
    {
     "name": "stdout",
     "output_type": "stream",
     "text": [
      "x= tf.Tensor(\n",
      "[[1]\n",
      " [2]\n",
      " [3]], shape=(3, 1), dtype=int32)\n",
      "y= tf.Tensor([1 2 3 4], shape=(4,), dtype=int32)\n",
      "product c= tf.Tensor(\n",
      "[[ 1  2  3  4]\n",
      " [ 2  4  6  8]\n",
      " [ 3  6  9 12]], shape=(3, 4), dtype=int32)\n"
     ]
    }
   ],
   "source": [
    "x=tf.constant([[1],[2], [3]])\n",
    "print('x=',x)\n",
    "y=tf.range(1,5)\n",
    "print('y=',y)\n",
    "c=x*y\n",
    "print('product c=',c)"
   ]
  },
  {
   "cell_type": "markdown",
   "metadata": {
    "id": "voKN_jtVRynN"
   },
   "source": [
    "Tensors of same common dimension can be concatenated along it"
   ]
  },
  {
   "cell_type": "markdown",
   "metadata": {
    "id": "ESbHYa3IRynN"
   },
   "source": [
    "## Reducing sum and matrix operations\n",
    "\n",
    "Reduce_sum is tf the reduction operation for the elementwise tf.math.add operation. Reduces input_tensor along the dimensions given in axis. Unless keepdims is true, the rank of the tensor is reduced by 1 for each of the entries in axis, which must be unique. If keepdims is true, the reduced dimensions are retained with length 1. If no dim are shown then it is done for all dimensions"
   ]
  },
  {
   "cell_type": "code",
   "execution_count": 15,
   "metadata": {
    "colab": {
     "base_uri": "https://localhost:8080/"
    },
    "id": "9So4lExiRynN",
    "outputId": "fdc2c287-12a5-4af8-a38f-b39067623510"
   },
   "outputs": [
    {
     "name": "stdout",
     "output_type": "stream",
     "text": [
      "(2, 2)\n",
      "tf.Tensor(4.0, shape=(), dtype=float32)\n"
     ]
    }
   ],
   "source": [
    "print(e.get_shape())\n",
    "c1=tf.reduce_sum(e)\n",
    "print(c1)"
   ]
  },
  {
   "cell_type": "code",
   "execution_count": 16,
   "metadata": {
    "colab": {
     "base_uri": "https://localhost:8080/"
    },
    "id": "K8-VDiwIVQRz",
    "outputId": "ba89f7f6-70b9-49df-b679-c9ec6e45fe9f"
   },
   "outputs": [
    {
     "name": "stdout",
     "output_type": "stream",
     "text": [
      "()\n"
     ]
    }
   ],
   "source": [
    "print(c1.get_shape())"
   ]
  },
  {
   "cell_type": "markdown",
   "metadata": {
    "id": "HFfjRT5urdJb"
   },
   "source": [
    "Matrices are special tensors that allow linear algeraic operations - trace, taking determinant, finding eigenvalues, eigen vectors, etc. It even has available SVD decomposition."
   ]
  },
  {
   "cell_type": "code",
   "execution_count": 26,
   "metadata": {
    "colab": {
     "base_uri": "https://localhost:8080/"
    },
    "id": "aCr00E7I8tYf",
    "outputId": "c07c8f2a-4b0d-4f17-94c8-3ee2d67b65a0",
    "scrolled": false
   },
   "outputs": [
    {
     "name": "stdout",
     "output_type": "stream",
     "text": [
      "tf.Tensor(\n",
      "[[-2.5         0.99999994  0.5000002 ]\n",
      " [ 1.0000004   0.9999996  -0.99999994]\n",
      " [ 0.4999998  -0.99999976  0.49999994]], shape=(3, 3), dtype=float32)\n"
     ]
    }
   ],
   "source": [
    "x=tf.constant([[1, 2, 3],[2, 3, 4],[3,4,7]],dtype=float) #inverse\n",
    "y=tf.linalg.inv(x)\n",
    "print(y)"
   ]
  },
  {
   "cell_type": "code",
   "execution_count": 27,
   "metadata": {
    "colab": {
     "base_uri": "https://localhost:8080/"
    },
    "id": "xqkVznNbDDXo",
    "outputId": "e3f7dde4-40a7-49f5-ec84-9db9bf8d4302"
   },
   "outputs": [
    {
     "name": "stdout",
     "output_type": "stream",
     "text": [
      "-2.0000005\n"
     ]
    }
   ],
   "source": [
    "detm=tf.linalg.det(x).numpy() #determinant\n",
    "print(detm)"
   ]
  },
  {
   "cell_type": "code",
   "execution_count": 28,
   "metadata": {
    "colab": {
     "base_uri": "https://localhost:8080/"
    },
    "id": "m8Go9gNjEryn",
    "outputId": "b847934b-9e12-4f34-cfcd-0505bf364822"
   },
   "outputs": [
    {
     "name": "stdout",
     "output_type": "stream",
     "text": [
      "11.0\n"
     ]
    }
   ],
   "source": [
    "z=tf.linalg.trace(x).numpy() #trace\n",
    "print(z)"
   ]
  },
  {
   "cell_type": "code",
   "execution_count": 29,
   "metadata": {
    "colab": {
     "base_uri": "https://localhost:8080/"
    },
    "id": "Nno24Q6w-lyw",
    "outputId": "a0fc39ce-778e-48fa-82e5-87ea89669baf"
   },
   "outputs": [
    {
     "name": "stdout",
     "output_type": "stream",
     "text": [
      "[-2.9331992  0.092613   1.8405868]\n"
     ]
    }
   ],
   "source": [
    "e_values, e_vectors = tf.linalg.eigh(y) #eigenvalues eigenvectores\n",
    "print(e_values.numpy())"
   ]
  },
  {
   "cell_type": "code",
   "execution_count": 30,
   "metadata": {
    "colab": {
     "base_uri": "https://localhost:8080/"
    },
    "id": "rehxDnrnFK2V",
    "outputId": "c5e93844-32c9-41db-e7e6-dde527e68f36"
   },
   "outputs": [
    {
     "name": "stdout",
     "output_type": "stream",
     "text": [
      "tf.Tensor([10.797619    0.54330456  0.3409245 ], shape=(3,), dtype=float32) tf.Tensor(\n",
      "[[ 0.34522298  0.12330939 -0.93038476]\n",
      " [ 0.4969536   0.8169342   0.29266968]\n",
      " [ 0.796152   -0.5633943   0.22074544]], shape=(3, 3), dtype=float32) tf.Tensor(\n",
      "[[ 0.345223    0.12331032  0.9303847 ]\n",
      " [ 0.49695355  0.8169339  -0.29267055]\n",
      " [ 0.796152   -0.5633945  -0.2207449 ]], shape=(3, 3), dtype=float32)\n"
     ]
    }
   ],
   "source": [
    "s, u, v = tf.linalg.svd(x) #SVD s -diagnal, U singular vectors of m-space v singular vectors of n-space\n",
    "print(s,u,v)"
   ]
  },
  {
   "cell_type": "markdown",
   "metadata": {
    "id": "nVpJz6dtwYuR"
   },
   "source": [
    "## Tensordot operation\n",
    "\n",
    "Very important linear algrebraic operation on tensors is outer-product (aka tensor product or tensordot). It is defined as follows. Let $A=(a_{i_1\\ldots i_k})$ be $k$-dimesional tensor. And let $B=(b_{j_1 \\ldots j_m})$ be $m$ dimesional tensor. Then $C=A\\otimes B$ is an $k+m$ dimesional tensor such that $$C=(c_{t_1\\ldots t_k t_{k+1} t_{k+m}})$$ where $$c_{t_1\\ldots t_k t_{k+1} t_{k+m}} = a_{i_1\\ldots i_k}\\cdot b_{j_1 \\ldots j_m}$$ for $$t_1=i_1,\\ldots, t_k=i_k, t_{k+1}=j_1,\\ldots,t_{k+m}=j_{k}.$$ For example, let $$C=\n",
    "\\begin{pmatrix}1&2&3\\\\2&3&4\\end{pmatrix}⊗\\begin{pmatrix}4&5\\\\ 5&6\\\\ 6&7\\end{pmatrix}.$$ It is the outer product of 2-D tensor by 2-D tensor that is 4 dimesnional tensor. In this product the element $$c_{0,2,2,1}=a_{0,2}\\cdot b_{2,1}=3\\times 7=21$$ \n",
    "\n",
    "Notice that to have outer product we need to insdicate that axis over which we are doing the product is 0"
   ]
  },
  {
   "cell_type": "code",
   "execution_count": 31,
   "metadata": {
    "colab": {
     "base_uri": "https://localhost:8080/"
    },
    "id": "xQuhjJQkzJ3I",
    "outputId": "0209647e-007a-487e-8a8e-0fd10c944b9a"
   },
   "outputs": [
    {
     "name": "stdout",
     "output_type": "stream",
     "text": [
      "tf.Tensor(\n",
      "[[[[ 4  5]\n",
      "   [ 5  6]\n",
      "   [ 6  7]]\n",
      "\n",
      "  [[ 8 10]\n",
      "   [10 12]\n",
      "   [12 14]]\n",
      "\n",
      "  [[12 15]\n",
      "   [15 18]\n",
      "   [18 21]]]\n",
      "\n",
      "\n",
      " [[[ 8 10]\n",
      "   [10 12]\n",
      "   [12 14]]\n",
      "\n",
      "  [[12 15]\n",
      "   [15 18]\n",
      "   [18 21]]\n",
      "\n",
      "  [[16 20]\n",
      "   [20 24]\n",
      "   [24 28]]]], shape=(2, 3, 3, 2), dtype=int32)\n",
      "xy0[0,2,2,1] is x[0,2]*y[2,1]= tf.Tensor(21, shape=(), dtype=int32)\n"
     ]
    }
   ],
   "source": [
    "x=tf.constant([[1, 2, 3],[2, 3, 4]])\n",
    "y=tf.constant([[4, 5], [5, 6],[6, 7]])\n",
    "xy0=tf.tensordot(x,y, axes = 0)\n",
    "print(xy0)\n",
    "print('xy0[0,2,2,1] is x[0,2]*y[2,1]=',xy0[0,2,2,1])"
   ]
  },
  {
   "cell_type": "markdown",
   "metadata": {
    "id": "Dnhgf4xuzDJS"
   },
   "source": [
    "Note that standard Kronecker product of matrices is essentially flatenning of the outer product  C=X⊗Y into 2 dimesions, i.e. Kroneker product of matrices is just outer product C in which dimensions $i_0,i_2$ of outer product (the same as dimesnions with dimesions $k_0$ and $k_1$ of matrix $X$) and $i_3,i_4$ (the same $j_0,j_1$ of matrix $Y$) are flattened into two dimensiotn $s,t$ of Kroneker product matrix $D$, so that element $d_{st}=a_{k_0, k_1}\\times b_{j_0,j_1}$ where $s=k_0\\times j_0 $ and $t=k_1\\times j_1$. So for example in the product  $$\\begin{array}{lcl}\n",
    "D=\\begin{pmatrix}1&2&3\\\\2&3&4\\end{pmatrix}⊗^K\\begin{pmatrix}4&5\\\\5&6\\\\6&7\\end{pmatrix}&=&\\left(\n",
    "   \\begin{array} 1\n",
    "1\\cdot\\begin{pmatrix}4&5\\\\5&6\\\\6&7\\end{pmatrix}&2\\cdot\\begin{pmatrix}4&5\\\\5&6\\\\6&7\\end{pmatrix}&3\\cdot\\begin{pmatrix}4&5\\\\5&6\\\\6&7\\end{pmatrix}\\\\\n",
    "2\\cdot\\begin{pmatrix}4&5\\\\5&6\\\\6&7\\end{pmatrix}&3\\cdot\\begin{pmatrix}4&5\\\\5&6\\\\6&7\\end{pmatrix}&4\\cdot\\begin{pmatrix}4&5\\\\5&6\\\\6&7\\end{pmatrix}\\\\\n",
    "\\end{array}\\right)\\\\ &=&\\begin{pmatrix}4&5&8&10&12&15\\\\ 5&6&10&12&15&18\\\\6&7&16&14&18&21\\\\8&10&12&15&16&20\\\\10&12&15&18&20&24\\\\12&14&18&21&24&28\\end{pmatrix}\\end{array}$$ \n",
    "we have $d_{3,6}=21=d_{(1)\\times (3),(3)\\times(2)}=c_{1-1,3-1,3-1,2-1}=c_{0,2,2,1}$. Note that $1$ is subtracted everywhere in conversion because in tensorflow (as in Python) we count indices from $0$ not from $1$   "
   ]
  },
  {
   "cell_type": "markdown",
   "metadata": {
    "id": "BoTXdQ6QXXTn"
   },
   "source": [
    "However, tensordot in tensorflow is much more than outer product thanks to definition of axis-to-axis reduction that we do not explicitly have in linear algebra. Tensordot is also tensor contraction in the sense that it sums the product of elements from tesnors $A$ and $B$ over the indices specified by $A$-axises and $B$-axises. The lists of pairs of $A$-axises and $B$-axises specify those pairs of axises along which to contract the tensors. The $A$-axis in pair $i$ must have the same dimension $B$ axis in pair $i$ for all pairs. For example 2D-tensor-dot operation of square matrices is nothing more than $A.B$ when axes 1 is multiplied to axes 0:"
   ]
  },
  {
   "cell_type": "code",
   "execution_count": 32,
   "metadata": {
    "colab": {
     "base_uri": "https://localhost:8080/"
    },
    "id": "lklGRmsHx1nj",
    "outputId": "644b5ad5-403f-40b8-e17f-a08f42a292da"
   },
   "outputs": [
    {
     "name": "stdout",
     "output_type": "stream",
     "text": [
      "tf.Tensor(\n",
      "[[32 38]\n",
      " [47 56]], shape=(2, 2), dtype=int32)\n"
     ]
    }
   ],
   "source": [
    "x=tf.constant([[1, 2, 3],[2, 3, 4]])\n",
    "y=tf.constant([[4, 5], [5, 6],[6, 7]])\n",
    "xy1=tf.tensordot(x,y, axes = (1,0))\n",
    "print(xy1)"
   ]
  },
  {
   "cell_type": "markdown",
   "metadata": {
    "id": "lGtijI6rA4-C"
   },
   "source": [
    "If I take axis more that number of dimesion (2 in case of matrices) then I will just flatten both tensors into vectors $\\vec{x}=\\begin{pmatrix} 1\\\\2\\\\3\\\\2\\\\3\\\\4\\end{pmatrix}$ and $\\vec{y}=\\begin{pmatrix} 4\\\\5\\\\5\\\\6\\\\6\\\\7\\end{pmatrix}$ in order of their indices and take a dot product of vectors $\\sum_{i=1}^6 x_i\\times y_i$"
   ]
  },
  {
   "cell_type": "code",
   "execution_count": 33,
   "metadata": {
    "colab": {
     "base_uri": "https://localhost:8080/"
    },
    "id": "4-oGjcRBA6P5",
    "outputId": "19113145-29db-443a-c9a3-9906976cda14"
   },
   "outputs": [
    {
     "name": "stdout",
     "output_type": "stream",
     "text": [
      "tf.Tensor(87, shape=(), dtype=int32)\n"
     ]
    }
   ],
   "source": [
    "xy2=tf.tensordot(x,y, axes = 2)\n",
    "print(xy2)"
   ]
  },
  {
   "cell_type": "markdown",
   "metadata": {
    "id": "F71NKXuuEMiY"
   },
   "source": [
    "Using indications which axis to merge with which I can do $A.B^T$ which will need too be axises 1 to 1, $A^T.B$ which is axises 0 to 0, $A^T.B^T$ which needs 0 to 1 or just normal product which is 1 to 0  and default that is performed when just one axis 1 is given"
   ]
  },
  {
   "cell_type": "code",
   "execution_count": 34,
   "metadata": {
    "colab": {
     "base_uri": "https://localhost:8080/"
    },
    "id": "6shy3cOMz4Y6",
    "outputId": "3697cccd-e56c-4b03-e9f9-33e5dee4020e"
   },
   "outputs": [
    {
     "name": "stdout",
     "output_type": "stream",
     "text": [
      "tf.Tensor(\n",
      "[[12 17 17]\n",
      " [12 23 17]\n",
      " [16 19 11]], shape=(3, 3), dtype=int32)\n"
     ]
    }
   ],
   "source": [
    "A = tf.constant([[1, 2, 3],\n",
    "                 [1, 4, 2],\n",
    "                 [3, 2, 1]])\n",
    "\n",
    "B = tf.constant([[4, 1, 2],\n",
    "                 [3, 4, 2],\n",
    "                 [1, 2, 4]])\n",
    "AB11=tf.tensordot(A,B, axes = ((1),(1)))\n",
    "print(AB11)"
   ]
  },
  {
   "cell_type": "code",
   "execution_count": 35,
   "metadata": {
    "colab": {
     "base_uri": "https://localhost:8080/"
    },
    "id": "5aJ6nqbNFDCZ",
    "outputId": "b2cc8c01-d153-47cb-a1ba-53b4b9f6087b"
   },
   "outputs": [
    {
     "name": "stdout",
     "output_type": "stream",
     "text": [
      "tf.Tensor(\n",
      "[[10 11 16]\n",
      " [22 22 20]\n",
      " [19 13 14]], shape=(3, 3), dtype=int32)\n"
     ]
    }
   ],
   "source": [
    "A = tf.constant([[1, 2, 3],\n",
    "                 [1, 4, 2],\n",
    "                 [3, 2, 1]])\n",
    "\n",
    "B = tf.constant([[4, 1, 2],\n",
    "                 [3, 4, 2],\n",
    "                 [1, 2, 4]])\n",
    "AB00=tf.tensordot(A,B, axes = ((0),(0)))\n",
    "print(AB00)"
   ]
  },
  {
   "cell_type": "code",
   "execution_count": 36,
   "metadata": {
    "colab": {
     "base_uri": "https://localhost:8080/"
    },
    "id": "bC6QBMEqGJv6",
    "outputId": "c197e570-409c-47a4-df26-151cffe6ebee"
   },
   "outputs": [
    {
     "name": "stdout",
     "output_type": "stream",
     "text": [
      "tf.Tensor(\n",
      "[[11 13 15]\n",
      " [16 26 18]\n",
      " [16 19 11]], shape=(3, 3), dtype=int32)\n"
     ]
    }
   ],
   "source": [
    "A = tf.constant([[1, 2, 3],\n",
    "                 [1, 4, 2],\n",
    "                 [3, 2, 1]])\n",
    "\n",
    "B = tf.constant([[4, 1, 2],\n",
    "                 [3, 4, 2],\n",
    "                 [1, 2, 4]])\n",
    "AB01=tf.tensordot(A,B, axes = ((0),(1)))\n",
    "print(AB01)"
   ]
  }
 ],
 "metadata": {
  "colab": {
   "collapsed_sections": [],
   "name": "Intro_to_tf.ipynb",
   "provenance": []
  },
  "kernelspec": {
   "display_name": "Python [conda env:my_tf]",
   "language": "python",
   "name": "conda-env-my_tf-py"
  },
  "language_info": {
   "codemirror_mode": {
    "name": "ipython",
    "version": 3
   },
   "file_extension": ".py",
   "mimetype": "text/x-python",
   "name": "python",
   "nbconvert_exporter": "python",
   "pygments_lexer": "ipython3",
   "version": "3.7.9"
  }
 },
 "nbformat": 4,
 "nbformat_minor": 1
}
