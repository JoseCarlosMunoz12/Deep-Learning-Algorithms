{
 "cells": [
  {
   "cell_type": "markdown",
   "metadata": {
    "id": "bKiW5RsR1SKd"
   },
   "source": [
    "# Using Pretrained NN\n",
    "We'll learn to use a pretrained VGG16 netwrok in this class\n",
    "\n",
    "## Disclaimer\n",
    "The code in this lecture uses substantial part (the data preparation and NN architecture - almost literally) of the code from github site that accompanies the <b>book Chollet, F., 2017. Deep learning with python. Manning Publications Co.</b> It is modified to work with modified dataset and with the tools that I find suitable, but at the core of this program in the code from Chollet.\n",
    "\n",
    "\n",
    "## Goal: training image recognition NN on moderate size dataset of visual data\n",
    "Dataset contains images dogs and cats from Kaggle (Google) competition in 2013. Can be downloaded from Kaggle https://www.kaggle.com/c/dogs-vs-cats/data or from class BB site. Dataset contains 25,000 high resolution images of dogs and cats (12,500 from each class) and is 543 MB (compressed). Kaggle dataset is not sorted into directories, but names contain either word ‘dog’ or word ‘cat’. My file (on BB site) is already sorted into separate dog and cat directories.\n",
    "\n",
    "## Python: working with Files\n",
    "First step We want to create small training (400*2 – arbitrarily chosen small number), validating set (200*2 – ½ training set) and testing set (400*2 same as training) out of these directories. As usual we import \n",
    "<ul>\n",
    "    <li>lfrom Keras <em>models, layers and optimizers</em> for NN construction </li>\n",
    "    <li> <em>numpy</em> for data processing</li> \n",
    "    <li><em>os</em> for operating system operations</li>\n",
    "    <li><em>Matplotlib</em> for plotting</li>\n",
    "</ul>\n",
    "New libraries:\n",
    "<ul>\n",
    "    <li><em>shutil</em> – for high level file operation such as copy, move, file-tree examination (this is Python standard library not tf or ks)</li>\n",
    "    <li>from <em>keras.applications</em> import <b>VGG16</b> – this is pretrained network that we'll use</li>\n",
    "    <li>from <em>keras.preprocessing.image</em> import <b>ImageDataGenerator</b> – this is a function that returns batches from a given directory with data</li>\n",
    "</ul>"
   ]
  },
  {
   "cell_type": "code",
   "execution_count": 1,
   "metadata": {
    "id": "sTSCLAjW1SKi"
   },
   "outputs": [
    {
     "name": "stderr",
     "output_type": "stream",
     "text": [
      "Using TensorFlow backend.\n"
     ]
    }
   ],
   "source": [
    "import tensorflow as tf\n",
    "from keras.utils import np_utils\n",
    "import matplotlib.pyplot as plt\n",
    "import shutil\n",
    "import os\n",
    "import numpy as np\n",
    "from keras.preprocessing.image import ImageDataGenerator\n",
    "from keras import models\n",
    "from keras import layers\n",
    "from keras import optimizers"
   ]
  },
  {
   "cell_type": "markdown",
   "metadata": {
    "id": "X7UesFDs1SKk"
   },
   "source": [
    "Check if we are in Google colab or working locally"
   ]
  },
  {
   "cell_type": "code",
   "execution_count": 2,
   "metadata": {
    "id": "J2w1dKFW1SKk"
   },
   "outputs": [],
   "source": [
    "try:\n",
    "    from google.colab import drive\n",
    "    IN_COLAB=True\n",
    "    from keras.applications.vgg16 import VGG16\n",
    "except:\n",
    "    IN_COLAB=False\n",
    "    from keras.applications import VGG16"
   ]
  },
  {
   "cell_type": "markdown",
   "metadata": {
    "id": "LUGccWKd1SKl"
   },
   "source": [
    "Set the path to the directory into which the original dataset was decompressed, i.e. where images of cats and dogs are. Check if thise (these) folder(s) exist(s). If you didn't have dogs and cats separated into different folders you need to do that. But I have them in two separate folders already, so I just check that these folders exist."
   ]
  },
  {
   "cell_type": "code",
   "execution_count": 3,
   "metadata": {
    "colab": {
     "base_uri": "https://localhost:8080/"
    },
    "id": "sfo2897s1SKl",
    "outputId": "e10d3d7d-9cc7-41c2-c221-67f3efb54367"
   },
   "outputs": [],
   "source": [
    "if not IN_COLAB:\n",
    "    original_dataset_dir_dogs = 'C:/Users/awolpert/OneDrive - Roosevelt University/Desktop/Courses/CST 361-461_408 Deep Learning/x-KerasProjects/Data/PetImages/Dog'\n",
    "    original_dataset_dir_cats ='C:/Users/awolpert/OneDrive - Roosevelt University/Desktop/Courses/CST 361-461_408 Deep Learning/x-KerasProjects/Data/PetImages/Cat'\n",
    "else:\n",
    "    drive.mount('/content/gdrive')\n",
    "    original_dataset_dir_dogs = '/content/gdrive/My Drive/courses/Deep Learning/data/PetImages/Dog'\n",
    "    original_dataset_dir_cats = '/content/gdrive/My Drive/courses/Deep Learning/data/PetImages/Cat'\n",
    "    \n",
    "if not os.path.exists(original_dataset_dir_dogs):\n",
    "    print('no dog data directory')\n",
    "if not os.path.exists(original_dataset_dir_cats):\n",
    "    print('no cat data directory')"
   ]
  },
  {
   "cell_type": "markdown",
   "metadata": {
    "id": "pzc6IAWt1SKm"
   },
   "source": [
    "Define the name for the folder where the smaller dataset (images) is going to be. Create this folder. Note: this folder may already exist, if you are running this program multiple times. If so you on't create this folder again. "
   ]
  },
  {
   "cell_type": "code",
   "execution_count": 4,
   "metadata": {
    "colab": {
     "base_uri": "https://localhost:8080/"
    },
    "id": "v-hA0UIC1SKn",
    "outputId": "5063f7e9-816b-4973-f5b6-a15b93bde4e9"
   },
   "outputs": [],
   "source": [
    "if not IN_COLAB:\n",
    "    base_dir = 'C:/Users/awolpert/OneDrive - Roosevelt University/Desktop/Courses/CST 361-461_408 Deep Learning/x-KerasProjects/Data/cats_and_dogs_small'\n",
    "else:\n",
    "     base_dir =  '/content/gdrive/My Drive/courses/Deep Learning/data/cats_and_dogs_small'\n",
    "if not os.path.exists(base_dir):\n",
    "    print('creating new directory for small dataset')\n",
    "    os.mkdir(base_dir)"
   ]
  },
  {
   "cell_type": "markdown",
   "metadata": {
    "id": "xhZPbyhh1SKo"
   },
   "source": [
    "Define a name for train subdirectory in base directory and if it does not exist yet, create it. Use <em>os.path.join</em> to create a name for subdirectory. Do the same set of operators to create a validation folder and a testing folder."
   ]
  },
  {
   "cell_type": "code",
   "execution_count": 5,
   "metadata": {
    "colab": {
     "base_uri": "https://localhost:8080/"
    },
    "id": "JVOXDrS41SKo",
    "outputId": "5d3d388b-d900-4b35-ed77-e9614bbb8fbc"
   },
   "outputs": [],
   "source": [
    "train_dir = os.path.join(base_dir, 'train')\n",
    "if not os.path.exists(train_dir):\n",
    "    print('creating new train sudirectory for small dataset')\n",
    "    os.mkdir(train_dir)\n",
    "\n",
    "validation_dir = os.path.join(base_dir, 'validation')\n",
    "if not os.path.exists(validation_dir):\n",
    "    print('creating new validation su directory for small dataset')\n",
    "    os.mkdir(validation_dir)\n",
    "\n",
    "test_dir = os.path.join(base_dir, 'test')\n",
    "if not os.path.exists(test_dir):\n",
    "    print('creating new test subdirectory for small dataset')\n",
    "    os.mkdir(test_dir)"
   ]
  },
  {
   "cell_type": "markdown",
   "metadata": {
    "id": "EYcyme331SKp"
   },
   "source": [
    "Then in the same way create in each one of these folders (train, validate,test) subfolders for cats and dogs."
   ]
  },
  {
   "cell_type": "code",
   "execution_count": 6,
   "metadata": {
    "id": "jMs9h49L1SKp"
   },
   "outputs": [],
   "source": [
    "train_cats_dir = os.path.join(train_dir, 'cats')\n",
    "if not os.path.exists(train_cats_dir):\n",
    "    os.mkdir(train_cats_dir)\n",
    "\n",
    "# Directory with our training dog pictures\n",
    "train_dogs_dir = os.path.join(train_dir, 'dogs')\n",
    "if not os.path.exists(train_dogs_dir):\n",
    "    os.mkdir(train_dogs_dir)\n",
    "\n",
    "# Directory with our validation cat pictures\n",
    "validation_cats_dir = os.path.join(validation_dir, 'cats')\n",
    "if not os.path.exists(validation_cats_dir):\n",
    "    os.mkdir(validation_cats_dir)\n",
    "\n",
    "# Directory with our validation dog pictures\n",
    "validation_dogs_dir = os.path.join(validation_dir, 'dogs')\n",
    "if not os.path.exists(validation_dogs_dir):\n",
    "    os.mkdir(validation_dogs_dir)\n",
    "\n",
    "# Directory with our validation cat pictures\n",
    "test_cats_dir = os.path.join(test_dir, 'cats')\n",
    "if not os.path.exists(test_cats_dir):\n",
    "    os.mkdir(test_cats_dir)\n",
    "\n",
    "# Directory with our validation dog pictures\n",
    "test_dogs_dir = os.path.join(test_dir, 'dogs')\n",
    "if not os.path.exists(test_dogs_dir):\n",
    "    os.mkdir(test_dogs_dir)"
   ]
  },
  {
   "cell_type": "markdown",
   "metadata": {
    "id": "zVz3el671SKq"
   },
   "source": [
    "Check is the folders for cats/dogs are empty. If so we need to copy files. In my already preprocessed dataset names are <number>.jpg so we need to copy all *.jpg files. In original Kaggle data set names are either dog.<number>.jpg or cat.<number>.jpg so files dog.*.jpg or cat.*.jpg must be copied. For example, I copy for training first 400 images of cats and 400 images of dogs. So I copy 0.jpg to 399.jpg names for these files need to be created. I use python compressed list creation statement \"['{}.jpg'.format(i) for i in range(400)]\",  where compression creates a list and {} changes whatever in {} to numbers. If you had names 'dogs.#.jpg\" and 'cats.#.jpg' as in Kaggle datset then this operator sould be \"['dog.{}.jpg'.format(i) for i in range(400)]\" to create list of names for dog images and \"['cats.{}.jpg'.format(i) for i in range(400)]\" to create list of names for cat images. Note that in this case you would need to lists and work separately with each list from main (the only) base directory. After I created file names I join names with the path to the folder where files are and to the folder where they should be in the loop over names using \"os.path.join()\" to create complete file names that include path for origin files and for destination files. And then I copy the files. I use\n",
    "<ul>\n",
    "   <li> firts 400 images for traing (both cats and dogs)</li>\n",
    "   <li> next 200 images for validation</li>\n",
    "   <li> next 400 images for testin</li>\n",
    "</ul>\n",
    "\n",
    "Note that I use \"shutil.copyfile()\" to copy files. You can of course read source file into memory with standard python read and then write it out using standard python write. But shutil library allows for high level system file operations so it is easier to use these than standard python operators. Plus these are effitiently implemented "
   ]
  },
  {
   "cell_type": "code",
   "execution_count": 7,
   "metadata": {
    "id": "HO47vY5p1SKq"
   },
   "outputs": [],
   "source": [
    "if len(os.listdir(train_cats_dir)) == 0:\n",
    "    # Copy first 400 cat images to train_cats_dir\n",
    "    fnames = ['{}.jpg'.format(i) for i in range(400)]\n",
    "    for fname in fnames:\n",
    "        src = os.path.join(original_dataset_dir_cats, fname)\n",
    "        dst = os.path.join(train_cats_dir, fname)\n",
    "        shutil.copyfile(src, dst)\n",
    "\n",
    "if len(os.listdir(validation_cats_dir)) == 0:\n",
    "    # Copy next 200 cat images to validation_cats_dir\n",
    "    fnames = ['{}.jpg'.format(i) for i in range(400, 600)]\n",
    "    for fname in fnames:\n",
    "        src = os.path.join(original_dataset_dir_cats, fname)\n",
    "        dst = os.path.join(validation_cats_dir, fname)\n",
    "        shutil.copyfile(src, dst)\n",
    "\n",
    "if len(os.listdir(test_cats_dir)) == 0:\n",
    "    # Copy next 400 cat images to test_cats_dir\n",
    "    fnames = ['{}.jpg'.format(i) for i in range(600, 100)]\n",
    "    for fname in fnames:\n",
    "        src = os.path.join(original_dataset_dir_cats, fname)\n",
    "        dst = os.path.join(test_cats_dir, fname)\n",
    "        shutil.copyfile(src, dst)\n",
    "\n",
    "if len(os.listdir(train_dogs_dir)) == 0:\n",
    "    # Copy first 400 dog images to train_dogs_dir\n",
    "    fnames = ['{}.jpg'.format(i) for i in range(400)]\n",
    "    for fname in fnames:\n",
    "        src = os.path.join(original_dataset_dir_dogs, fname)\n",
    "        dst = os.path.join(train_dogs_dir, fname)\n",
    "        shutil.copyfile(src, dst)\n",
    "\n",
    "if len(os.listdir(validation_dogs_dir)) == 0:\n",
    "    # Copy next 200 dog images to validation_dogs_dir\n",
    "    fnames = ['{}.jpg'.format(i) for i in range(400, 600)]\n",
    "    for fname in fnames:\n",
    "        src = os.path.join(original_dataset_dir_dogs, fname)\n",
    "        dst = os.path.join(validation_dogs_dir, fname)\n",
    "        shutil.copyfile(src, dst)\n",
    "\n",
    "if len(os.listdir(test_dogs_dir)) == 0:\n",
    "    # Copy next 400 dog images to test_dogs_dir\n",
    "    fnames = ['{}.jpg'.format(i) for i in range(600, 1000)]\n",
    "    for fname in fnames:\n",
    "        src = os.path.join(original_dataset_dir_dogs, fname)\n",
    "        dst = os.path.join(test_dogs_dir, fname)\n",
    "        shutil.copyfile(src, dst)"
   ]
  },
  {
   "cell_type": "markdown",
   "metadata": {
    "id": "USnhIQ6-1SKr"
   },
   "source": [
    "## Preparing data\n",
    "We'll need to feed data into the model. I use  ImageDataGenerator to generate the input of images. It is a class that inherits from python DataGenerator that for real-time data feeding to your Keras model. For imageDatagenerator arguments are directory from which take files, the image size (it subsamples the raw image to the specified size), and batch size (number of images in the batch), and it requires classification label mode. More exactly,\n",
    "<ul>\n",
    "<li>For IMageDataGenerator \"the train_dir\" argument is the directory that must have subdirectories containg training examples for each of the classess. Labels are by default \"inferred\" - they are generated from the directory structure. In our case the main train folder contains subfolders \"dogs\" and \"cats\" that are two classes.</li>\n",
    "<li> class_mode argument defines the \"mode\" of classification. The value can be \"categorical\", \"binary\", \"sparse\", \"input\", or None. Default is \"categorical\". The argument determines the type of label arrays that are returned: - \"categorical\" will be 2D one-hot encoded labels, \"binary\" will be 1D binary labels, \"sparse\" will be 1D integer labels, \"input\" will be images identical to input images (mainly used to work with autoencoders - we'll talk about it later). If None, no labels are returned (the generator will only yield batches of image data, which is useful to use with model.predict_generator() that is used in unsupervised learning). In our case the class mode is clearly binary, since we only have 2 classes.</li> \n",
    "</ul>\n",
    "ImageDataGenerator allows for many useful things such as image augmentation (we'll get to that), but I use it here only to stream images in batches:\n",
    "<ul>\n",
    "    <li>ImageDataGenerator returns a DirectoryIterator that is iterating over pairs of $(𝑥, 𝑦)$ where \n",
    "        <ul> \n",
    "            <li> $𝑥$ is a tensor (numpy array containing a batch of images) with the shape (batch_size, target_size, channels) with target_size being 2D</li>\n",
    "            <li> $𝑦$ is a 1D numpy array of corresponding labels</li>\n",
    "        </ul>\n",
    "    </li>\n",
    "    <li> By default ImageDataGenerator will shuffle the images to obtain random data order</li>\n",
    "    <li> Note that Directory iterator never stops: it circles through the directory generating new batches</li>\n",
    "<ul>  \n",
    "As before we rescale all channel values to be between 0 and 1 (type byte maximum value 255). We set bacth size to 20. Of course we need separate "
   ]
  },
  {
   "cell_type": "code",
   "execution_count": 8,
   "metadata": {
    "colab": {
     "base_uri": "https://localhost:8080/"
    },
    "id": "rsX0bzvu1SKr",
    "outputId": "b2744966-515d-4cf6-b307-127b1de94a51"
   },
   "outputs": [
    {
     "name": "stdout",
     "output_type": "stream",
     "text": [
      "Found 2000 images belonging to 2 classes.\n",
      "Found 1400 images belonging to 2 classes.\n",
      "Found 1400 images belonging to 2 classes.\n"
     ]
    }
   ],
   "source": [
    "datagen = ImageDataGenerator(rescale=1./255)\n",
    "train_generator = datagen.flow_from_directory(\n",
    "        # This is the target directory\n",
    "        train_dir,\n",
    "        # All images will be resized to 150x150\n",
    "        target_size=(150, 150),\n",
    "        batch_size=20,\n",
    "        # Since we use binary_crossentropy loss, we need binary labels\n",
    "        class_mode='binary')\n",
    "\n",
    "validation_generator = datagen.flow_from_directory(\n",
    "        validation_dir,\n",
    "        target_size=(150, 150),\n",
    "        batch_size=20,\n",
    "        class_mode='binary')\n",
    "\n",
    "test_generator = datagen.flow_from_directory(\n",
    "        test_dir,\n",
    "        target_size=(150, 150),\n",
    "        batch_size=20,\n",
    "        class_mode='binary')"
   ]
  },
  {
   "cell_type": "markdown",
   "metadata": {
    "id": "2JXsBZp81SKs"
   },
   "source": [
    "## Pretrained Model\n",
    "\n",
    "I reuse convolutional base (the sequence of convolutional and pooling layers without the decision FF network) of the network\n",
    "named <b>VGG16</b>. Parameters are\n",
    "<ul>\n",
    "    <li> Weights as set as trained with imagenet data</li>\n",
    "    <li>decision levels FFNet removed ( include_top =False)</li>\n",
    "    <li>Input shape is the square tensor with 150 side and 3 channels</li>\n",
    "    <ul>\n",
    "        <li>This argument is optional: if you don’t pass it, the network will be able to process inputs of any size.</li>\n",
    "    </ul>\n",
    "</ul>\n",
    "\n",
    "- <b>ImageNet</b> dataset contains 1.4 million labeled images and 1,000 different classes ImageNet contains many animal classes, including different species of cats and dogs.One can thus expect network trained on this dataset to perform well on related but different classification problem.\n",
    "        \n",
    "- <b>VGG16</b> was trained on Image net that had more than 1000 classes. We intend to work with 2 classes, so DGG16 FF Net cannot be applicable. Moreover high-level features may also be too complex for  us so convolutional base that recognizes basic features (edges, colors, shapes, etc.) is the natural choice  \n",
    "\n",
    "So what is exactly VGG16?"
   ]
  },
  {
   "cell_type": "code",
   "execution_count": 9,
   "metadata": {
    "colab": {
     "base_uri": "https://localhost:8080/"
    },
    "id": "A81sYUuh1SKs",
    "outputId": "9e22a18c-9e6f-4a0b-a54b-f962bf17c8fd"
   },
   "outputs": [
    {
     "name": "stdout",
     "output_type": "stream",
     "text": [
      "Model: \"vgg16\"\n",
      "_________________________________________________________________\n",
      "Layer (type)                 Output Shape              Param #   \n",
      "=================================================================\n",
      "input_1 (InputLayer)         (None, 150, 150, 3)       0         \n",
      "_________________________________________________________________\n",
      "block1_conv1 (Conv2D)        (None, 150, 150, 64)      1792      \n",
      "_________________________________________________________________\n",
      "block1_conv2 (Conv2D)        (None, 150, 150, 64)      36928     \n",
      "_________________________________________________________________\n",
      "block1_pool (MaxPooling2D)   (None, 75, 75, 64)        0         \n",
      "_________________________________________________________________\n",
      "block2_conv1 (Conv2D)        (None, 75, 75, 128)       73856     \n",
      "_________________________________________________________________\n",
      "block2_conv2 (Conv2D)        (None, 75, 75, 128)       147584    \n",
      "_________________________________________________________________\n",
      "block2_pool (MaxPooling2D)   (None, 37, 37, 128)       0         \n",
      "_________________________________________________________________\n",
      "block3_conv1 (Conv2D)        (None, 37, 37, 256)       295168    \n",
      "_________________________________________________________________\n",
      "block3_conv2 (Conv2D)        (None, 37, 37, 256)       590080    \n",
      "_________________________________________________________________\n",
      "block3_conv3 (Conv2D)        (None, 37, 37, 256)       590080    \n",
      "_________________________________________________________________\n",
      "block3_pool (MaxPooling2D)   (None, 18, 18, 256)       0         \n",
      "_________________________________________________________________\n",
      "block4_conv1 (Conv2D)        (None, 18, 18, 512)       1180160   \n",
      "_________________________________________________________________\n",
      "block4_conv2 (Conv2D)        (None, 18, 18, 512)       2359808   \n",
      "_________________________________________________________________\n",
      "block4_conv3 (Conv2D)        (None, 18, 18, 512)       2359808   \n",
      "_________________________________________________________________\n",
      "block4_pool (MaxPooling2D)   (None, 9, 9, 512)         0         \n",
      "_________________________________________________________________\n",
      "block5_conv1 (Conv2D)        (None, 9, 9, 512)         2359808   \n",
      "_________________________________________________________________\n",
      "block5_conv2 (Conv2D)        (None, 9, 9, 512)         2359808   \n",
      "_________________________________________________________________\n",
      "block5_conv3 (Conv2D)        (None, 9, 9, 512)         2359808   \n",
      "_________________________________________________________________\n",
      "block5_pool (MaxPooling2D)   (None, 4, 4, 512)         0         \n",
      "=================================================================\n",
      "Total params: 14,714,688\n",
      "Trainable params: 14,714,688\n",
      "Non-trainable params: 0\n",
      "_________________________________________________________________\n",
      "None\n"
     ]
    }
   ],
   "source": [
    "conv_base = VGG16(weights='imagenet',\n",
    "include_top=False,\n",
    "input_shape=(150, 150, 3))\n",
    "print(conv_base.summary())"
   ]
  },
  {
   "cell_type": "markdown",
   "metadata": {
    "id": "RBQbiGtJ1SKs"
   },
   "source": [
    "VGG16 structure:\n",
    "\n",
    "    - 5 blocks that each consist of 2 convolutional layers and one max-Pooling layer\n",
    "    - With $14\\cdot 10^6$ training parameters \n",
    "    - The final feature map computed by DCGhas shape $(4, 4, 512)$ that should be fed into clasifier\n",
    "\n",
    "After VGG16 extracted features we flatten the output tensors and we feed the features from convolutional layer directly into standard FF decision (dense) layer to provide actual classification.\n",
    "<br>\n",
    "<br>\n",
    "How can we use pretrained network? We can \n",
    "    <ul>\n",
    "        <li> Extend the model (conv_base) by adding dense layers on top, and running the whole thing end to end on the input data.\n",
    "            <ul>\n",
    "                <li>This allows for additional feature tuning which also gives two options:\n",
    "                    <ul>\n",
    "                        <li> freeze weights of convolutional base. This is faster but new weights are not learned. However it still allows for data augmentation - i.e. we can distort images and learn new features</li>\n",
    "                        <li> do not freeze weight - so learn weights sppecific for our ata set. This is really expensive, but may result in higher accuracy. This option is often used with data augmentation that we'll discuss later.</li>\n",
    "                    </ul>\n",
    "                </li>\n",
    "                <li> But every input image goes through the convolutional base every time it’s seen by the model – requires much more time and resource</li>\n",
    "            </ul>\n",
    "        </li>\n",
    "        <li> Use the convolutional base as preprocessor:\n",
    "            <ol>\n",
    "                <li>Run the convolutional base over our dataset,</li>\n",
    "                <li> Reshape its output to a numpy array</li>\n",
    "                <li> Input this array to a standalone, densely connected classifier (FF net) similar to the way we did with  MNIST dataset</li>\n",
    "            <ol>\n",
    "        </li>\n",
    "    </ul>\n",
    "            \n",
    "## End-to-end training decision model with frozen DGG16 weights\n",
    "            \n",
    "We'll do here the first option with freezed weights first. We start with extending the frozen VGG16 with decision layer - just to show how it works. The model has \n",
    "<ul>\n",
    "    <li>DGG16 convolutional base layer</li>\n",
    "    <li> Flattening layer that flattens whatever the output of conv base is. Wwe do not sneed to pecify how to convert base to flat vector - flatten layer adapts to the tensor output of the base network</li>\n",
    "    <li> FF decision network just like in letter recognition network</li>\n",
    "    <li> Sigmoid decision layer</li>\n",
    "</ul>\n",
    "As you can see conv_base.trainable is set to False, which mmeans that do not allow training of weights in the base. We can see how the nmber of trainable wights decresses when we freeze the base."
   ]
  },
  {
   "cell_type": "code",
   "execution_count": 10,
   "metadata": {
    "colab": {
     "base_uri": "https://localhost:8080/"
    },
    "id": "uNoNTdcL1SKt",
    "outputId": "125b0232-f054-401d-dc9b-09f68cc7a5e4"
   },
   "outputs": [
    {
     "name": "stdout",
     "output_type": "stream",
     "text": [
      "This is the number of trainable weights before freezing the conv base: 30\n",
      "This is the number of trainable weights after freezing the conv base: 4\n"
     ]
    }
   ],
   "source": [
    "model = models.Sequential()\n",
    "model.add(conv_base)\n",
    "model.add(layers.Flatten())\n",
    "model.add(layers.Dense(256, activation='relu'))\n",
    "model.add(layers.Dense(1, activation='sigmoid'))\n",
    "\n",
    "print('This is the number of trainable weights '\n",
    "      'before freezing the conv base:', len(model.trainable_weights))\n",
    "conv_base.trainable = False\n",
    "print('This is the number of trainable weights '\n",
    "      'after freezing the conv base:', len(model.trainable_weights))\n",
    "model.compile(optimizer= tf.keras.optimizers.RMSprop(lr=2e-5),\n",
    "              loss='binary_crossentropy',\n",
    "              metrics=['acc'])"
   ]
  },
  {
   "cell_type": "markdown",
   "metadata": {
    "id": "vxL29IUT1SKt"
   },
   "source": [
    "I now fit the data and plot the results"
   ]
  },
  {
   "cell_type": "code",
   "execution_count": 11,
   "metadata": {
    "colab": {
     "base_uri": "https://localhost:8080/",
     "height": 860
    },
    "id": "PCHd_HpJ1SKt",
    "outputId": "5af6003d-b2a4-4137-dc96-f70f38485a04"
   },
   "outputs": [
    {
     "name": "stdout",
     "output_type": "stream",
     "text": [
      "Epoch 1/7\n",
      " - 27s - loss: 0.5904 - acc: 0.7275 - val_loss: 0.5447 - val_acc: 0.8050\n",
      "Epoch 2/7\n",
      " - 30s - loss: 0.5093 - acc: 0.7925 - val_loss: 0.4549 - val_acc: 0.8200\n",
      "Epoch 3/7\n",
      " - 37s - loss: 0.4276 - acc: 0.8375 - val_loss: 0.3426 - val_acc: 0.8350\n",
      "Epoch 4/7\n",
      " - 42s - loss: 0.4451 - acc: 0.8175 - val_loss: 0.3081 - val_acc: 0.8050\n",
      "Epoch 5/7\n",
      " - 42s - loss: 0.4024 - acc: 0.8450 - val_loss: 0.2952 - val_acc: 0.8750\n",
      "Epoch 6/7\n",
      " - 41s - loss: 0.3524 - acc: 0.8825 - val_loss: 0.2807 - val_acc: 0.8700\n",
      "Epoch 7/7\n",
      " - 41s - loss: 0.3569 - acc: 0.8700 - val_loss: 0.2585 - val_acc: 0.8450\n"
     ]
    },
    {
     "data": {
      "image/png": "[encoded data removed]",
      "text/plain": [
       "<Figure size 432x288 with 1 Axes>"
      ]
     },
     "metadata": {
      "needs_background": "light"
     },
     "output_type": "display_data"
    },
    {
     "data": {
      "image/png": "[encoded data removed]",
      "text/plain": [
       "<Figure size 432x288 with 1 Axes>"
      ]
     },
     "metadata": {
      "needs_background": "light"
     },
     "output_type": "display_data"
    },
    {
     "data": {
      "text/plain": [
       "<Figure size 432x288 with 0 Axes>"
      ]
     },
     "metadata": {},
     "output_type": "display_data"
    }
   ],
   "source": [
    "history = model.fit(\n",
    "      train_generator,\n",
    "      steps_per_epoch=20,\n",
    "      epochs=7,\n",
    "      validation_data=validation_generator,\n",
    "      validation_steps=10,\n",
    "      verbose=2)\n",
    "\n",
    "\n",
    "acc = history.history['acc']\n",
    "val_acc = history.history['val_acc']\n",
    "loss = history.history['loss']\n",
    "val_loss = history.history['val_loss']\n",
    "\n",
    "epochs = range(len(acc))\n",
    "\n",
    "plt.plot(epochs, acc, 'bo', label='Training acc')\n",
    "plt.plot(epochs, val_acc, 'b', label='Validation acc')\n",
    "plt.title('Training and validation accuracy')\n",
    "plt.legend()\n",
    "\n",
    "plt.figure()\n",
    "\n",
    "plt.plot(epochs, loss, 'bo', label='Training loss')\n",
    "plt.plot(epochs, val_loss, 'b', label='Validation loss')\n",
    "plt.title('Training and validation loss')\n",
    "plt.legend()\n",
    "\n",
    "plt.show()\n",
    "plt.clf()"
   ]
  },
  {
   "cell_type": "markdown",
   "metadata": {
    "id": "m00uwBRw1SKu"
   },
   "source": [
    "And now test the model. Note that since in test_generator we defined the batch size it will be generating data in batches. Thus since it works infinitely we need to say when to stop generating batches. Which is what \"step\" argument is for. Notice that 20 steps (batches) by 20 examples in the batch is exactly 400 - as many as we have test examples!  "
   ]
  },
  {
   "cell_type": "code",
   "execution_count": 18,
   "metadata": {
    "colab": {
     "base_uri": "https://localhost:8080/"
    },
    "id": "-aClVNls1SKu",
    "outputId": "2a220515-3650-4cba-f94c-35b72dc22862"
   },
   "outputs": [
    {
     "name": "stdout",
     "output_type": "stream",
     "text": [
      "20/20 [==============================] - 64s 3s/step - loss: 0.4362 - acc: 0.7700\n",
      "test acc: 0.7699999809265137\n"
     ]
    }
   ],
   "source": [
    "test_loss, test_acc = model.evaluate(test_generator, steps=20)\n",
    "print('test acc:', test_acc)"
   ]
  },
  {
   "cell_type": "markdown",
   "metadata": {
    "id": "2hkYOqt21SKu"
   },
   "source": [
    "Now let's run a cheaper option of exactly the same procedure: it only requires running the convolutional base once for every input image, and the convolutional base is by far the most expensive part of the pipeline. But for the same reason, this technique won’t allow the use of data augmentation.<br>\n",
    "\n",
    "## Deciding after preprocessing (extracting features) with pretrained NN\n",
    "Let us try the second option - use the convolutional base as preprocessor. First we need to extrarct features by running VGG16 over our training data set. We have feature extractor function for this. The function does the following \n",
    "<ol>\n",
    "    <li>Prepare the tensor with extracted features for each training sample and corresponding label vector</li>\n",
    "    <li> Generate the dataset stream using ImageDataGenerator as explained before. Note that for feature extraction the directory is passed as argument</li>\n",
    "    <li> Next we predict feature maps from the data set without classifying it. The network still uses pre-learned weights and we still iterate over batches to obtain feature maps without classifying them. There cannot beany data augmentation - each image will be run oover exactly once.</li>\n",
    "    <li>Note that since generators yield data indefinitely in a loop we must `break` after every image has been seen once</li>\n",
    "</ol>\n"
   ]
  },
  {
   "cell_type": "code",
   "execution_count": 19,
   "metadata": {
    "id": "b6noaXH-1SKu"
   },
   "outputs": [],
   "source": [
    "def extract_features(directory, sample_count, batch_size = 20):\n",
    "    features = np.zeros(shape=(sample_count, 4, 4, 512))\n",
    "    labels = np.zeros(shape=(sample_count))\n",
    "    generator = datagen.flow_from_directory(\n",
    "        directory,\n",
    "        target_size=(150, 150),\n",
    "        batch_size=batch_size,\n",
    "        class_mode='binary')\n",
    "    i = 0\n",
    "    for inputs_batch, labels_batch in generator:\n",
    "        features_batch = conv_base.predict(inputs_batch)\n",
    "        features[i * batch_size : (i + 1) * batch_size] = features_batch\n",
    "        labels[i * batch_size : (i + 1) * batch_size] = labels_batch\n",
    "        i += 1\n",
    "        #if i>=38:\n",
    "        #   print(i)\n",
    "        if i * batch_size >= sample_count:\n",
    "            # Note that since generators yield data indefinitely in a loop,\n",
    "            # we must `break` after every image has been seen once.\n",
    "            break\n",
    "    return features, labels"
   ]
  },
  {
   "cell_type": "markdown",
   "metadata": {
    "id": "6HLbs5qX1SKv"
   },
   "source": [
    "Now we can use the feature extracion function to extract features for training testing and validations.Each extracted feature map takes 150× 150 with 3 channels and output is 4×4×512 (4 channels, 512 neurons each, 4 parallel layers in a block). But the classification network  takes a vector. So we need to flatten the tensor into flat vector suitable for FF dense layer that we use next for classification. We do so using numpy reshape function "
   ]
  },
  {
   "cell_type": "code",
   "execution_count": 20,
   "metadata": {
    "colab": {
     "base_uri": "https://localhost:8080/"
    },
    "id": "rihr2Uti1SKv",
    "outputId": "8d706240-017b-4743-86ce-defa97b22b75"
   },
   "outputs": [
    {
     "name": "stdout",
     "output_type": "stream",
     "text": [
      "Found 800 images belonging to 2 classes.\n",
      "Found 400 images belonging to 2 classes.\n",
      "Found 400 images belonging to 2 classes.\n"
     ]
    }
   ],
   "source": [
    "train_features, train_labels = extract_features(train_dir, 800)\n",
    "validation_features, validation_labels = extract_features(validation_dir, 400)\n",
    "test_features, test_labels = extract_features(test_dir, 800)\n",
    "train_features = np.reshape(train_features, (800, 4 * 4 * 512))\n",
    "validation_features = np.reshape(validation_features, (400, 4 * 4 * 512))\n",
    "test_features = np.reshape(test_features, (800, 4 * 4 * 512))"
   ]
  },
  {
   "cell_type": "markdown",
   "metadata": {
    "id": "U7jvQblE1SKv"
   },
   "source": [
    "Finally, we do decision with shallow FF dense network just like we did for MINST letters data. It consists of RelU layer, dropout layer and sigmoid layer. We already have an extensive feature extraction so fo global features should be quickly synthesized.\n",
    "<br>\n",
    "Note a new wrinkle – use of dropout layer. It randomly sets input wieghts to 0 with a frequency of the <em>𝑟𝑎𝑡𝑒</em> argument (0.5) at each step during training time. Thus we are dropping some inputs altogether, which will cause the weights of the network to be larger than they should be. To prevent that the rescaling of the weights is performed at training time, after each weight update at the end of the mini-batch. The weights incident to inputs that are not set to 0 are re-scaled down by dividing by 1/(1 − 𝑟𝑎𝑡𝑒) so that the sum over all edges is unchanged. The dropout layer only applies when training is set to True! No values are dropped during actual inference. \n",
    "<ul>\n",
    "    <li> When using model.fit, training will be set to True automatically,</li>\n",
    "    <li> When using model.predict  it is automatically set to False, </li>\n",
    "    <li> In other contexts we can explicitly set to True or False when calling the layer.</li>\n",
    "<ul>"
   ]
  },
  {
   "cell_type": "code",
   "execution_count": 22,
   "metadata": {
    "colab": {
     "base_uri": "https://localhost:8080/"
    },
    "id": "PzL4lnWe1SKv",
    "outputId": "886f868f-cc86-4379-b300-13c0a2fc2b1f",
    "scrolled": true
   },
   "outputs": [
    {
     "name": "stdout",
     "output_type": "stream",
     "text": [
      "Epoch 1/30\n"
     ]
    },
    {
     "name": "stderr",
     "output_type": "stream",
     "text": [
      "/usr/local/lib/python3.7/dist-packages/keras/optimizer_v2/rmsprop.py:130: UserWarning: The `lr` argument is deprecated, use `learning_rate` instead.\n",
      "  super(RMSprop, self).__init__(name, **kwargs)\n"
     ]
    },
    {
     "name": "stdout",
     "output_type": "stream",
     "text": [
      "40/40 [==============================] - 1s 17ms/step - loss: 0.6582 - acc: 0.6150 - val_loss: 0.5590 - val_acc: 0.7550\n",
      "Epoch 2/30\n",
      "40/40 [==============================] - 1s 14ms/step - loss: 0.5106 - acc: 0.7563 - val_loss: 0.4905 - val_acc: 0.7900\n",
      "Epoch 3/30\n",
      "40/40 [==============================] - 1s 15ms/step - loss: 0.4449 - acc: 0.8112 - val_loss: 0.4460 - val_acc: 0.8075\n",
      "Epoch 4/30\n",
      "40/40 [==============================] - 1s 15ms/step - loss: 0.3960 - acc: 0.8413 - val_loss: 0.4124 - val_acc: 0.8250\n",
      "Epoch 5/30\n",
      "40/40 [==============================] - 1s 15ms/step - loss: 0.3773 - acc: 0.8438 - val_loss: 0.3846 - val_acc: 0.8400\n",
      "Epoch 6/30\n",
      "40/40 [==============================] - 1s 15ms/step - loss: 0.3446 - acc: 0.8662 - val_loss: 0.3805 - val_acc: 0.8250\n",
      "Epoch 7/30\n",
      "40/40 [==============================] - 1s 15ms/step - loss: 0.3016 - acc: 0.8737 - val_loss: 0.3521 - val_acc: 0.8550\n",
      "Epoch 8/30\n",
      "40/40 [==============================] - 1s 15ms/step - loss: 0.2789 - acc: 0.9050 - val_loss: 0.3407 - val_acc: 0.8475\n",
      "Epoch 9/30\n",
      "40/40 [==============================] - 1s 15ms/step - loss: 0.2488 - acc: 0.9200 - val_loss: 0.3352 - val_acc: 0.8500\n",
      "Epoch 10/30\n",
      "40/40 [==============================] - 1s 15ms/step - loss: 0.2575 - acc: 0.9075 - val_loss: 0.3262 - val_acc: 0.8450\n",
      "Epoch 11/30\n",
      "40/40 [==============================] - 1s 15ms/step - loss: 0.2318 - acc: 0.9212 - val_loss: 0.3206 - val_acc: 0.8500\n",
      "Epoch 12/30\n",
      "40/40 [==============================] - 1s 15ms/step - loss: 0.2179 - acc: 0.9212 - val_loss: 0.3077 - val_acc: 0.8600\n",
      "Epoch 13/30\n",
      "40/40 [==============================] - 1s 15ms/step - loss: 0.2023 - acc: 0.9337 - val_loss: 0.3100 - val_acc: 0.8500\n",
      "Epoch 14/30\n",
      "40/40 [==============================] - 1s 15ms/step - loss: 0.1949 - acc: 0.9287 - val_loss: 0.2993 - val_acc: 0.8650\n",
      "Epoch 15/30\n",
      "40/40 [==============================] - 1s 15ms/step - loss: 0.1781 - acc: 0.9400 - val_loss: 0.2985 - val_acc: 0.8550\n",
      "Epoch 16/30\n",
      "40/40 [==============================] - 1s 15ms/step - loss: 0.1770 - acc: 0.9425 - val_loss: 0.2926 - val_acc: 0.8600\n",
      "Epoch 17/30\n",
      "40/40 [==============================] - 1s 15ms/step - loss: 0.1672 - acc: 0.9513 - val_loss: 0.2943 - val_acc: 0.8575\n",
      "Epoch 18/30\n",
      "40/40 [==============================] - 1s 15ms/step - loss: 0.1588 - acc: 0.9538 - val_loss: 0.2849 - val_acc: 0.8725\n",
      "Epoch 19/30\n",
      "40/40 [==============================] - 1s 15ms/step - loss: 0.1482 - acc: 0.9513 - val_loss: 0.2863 - val_acc: 0.8650\n",
      "Epoch 20/30\n",
      "40/40 [==============================] - 1s 15ms/step - loss: 0.1417 - acc: 0.9613 - val_loss: 0.2845 - val_acc: 0.8675\n",
      "Epoch 21/30\n",
      "40/40 [==============================] - 1s 17ms/step - loss: 0.1311 - acc: 0.9650 - val_loss: 0.2782 - val_acc: 0.8675\n",
      "Epoch 22/30\n",
      "40/40 [==============================] - 1s 15ms/step - loss: 0.1213 - acc: 0.9675 - val_loss: 0.2787 - val_acc: 0.8675\n",
      "Epoch 23/30\n",
      "40/40 [==============================] - 1s 15ms/step - loss: 0.1243 - acc: 0.9625 - val_loss: 0.2823 - val_acc: 0.8675\n",
      "Epoch 24/30\n",
      "40/40 [==============================] - 1s 15ms/step - loss: 0.1233 - acc: 0.9688 - val_loss: 0.2771 - val_acc: 0.8700\n",
      "Epoch 25/30\n",
      "40/40 [==============================] - 1s 15ms/step - loss: 0.1249 - acc: 0.9600 - val_loss: 0.2766 - val_acc: 0.8725\n",
      "Epoch 26/30\n",
      "40/40 [==============================] - 1s 15ms/step - loss: 0.1108 - acc: 0.9750 - val_loss: 0.2712 - val_acc: 0.8725\n",
      "Epoch 27/30\n",
      "40/40 [==============================] - 1s 15ms/step - loss: 0.1084 - acc: 0.9737 - val_loss: 0.2707 - val_acc: 0.8800\n",
      "Epoch 28/30\n",
      "40/40 [==============================] - 1s 15ms/step - loss: 0.1020 - acc: 0.9737 - val_loss: 0.2755 - val_acc: 0.8750\n",
      "Epoch 29/30\n",
      "40/40 [==============================] - 1s 17ms/step - loss: 0.0967 - acc: 0.9750 - val_loss: 0.2710 - val_acc: 0.8800\n",
      "Epoch 30/30\n",
      "40/40 [==============================] - 1s 15ms/step - loss: 0.0853 - acc: 0.9825 - val_loss: 0.2749 - val_acc: 0.8725\n"
     ]
    }
   ],
   "source": [
    "decision_model = models.Sequential()\n",
    "decision_model.add(layers.Dense(256, activation='relu', input_dim=4 * 4 * 512))\n",
    "decision_model.add(layers.Dropout(0.5))\n",
    "decision_model.add(layers.Dense(1, activation='sigmoid'))\n",
    "\n",
    "decision_model.compile(optimizer= tf.keras.optimizers.RMSprop(lr=2e-5),\n",
    "              loss='binary_crossentropy',\n",
    "              metrics=['acc'])\n",
    "\n",
    "decision_history = decision_model.fit(train_features, train_labels,\n",
    "                    epochs=30,\n",
    "                    batch_size=20,\n",
    "                    validation_data=(validation_features, validation_labels))"
   ]
  },
  {
   "cell_type": "markdown",
   "metadata": {
    "id": "yuVCfhc_1SKw"
   },
   "source": [
    "See how many more epochs I am able to do this way - training decision layer separately on data allows me to save considerable time acheiving result better than top to bottom running of the netwrok for training. Now let's plot the loss and accuracy for training and validation respectively."
   ]
  },
  {
   "cell_type": "code",
   "execution_count": 23,
   "metadata": {
    "colab": {
     "base_uri": "https://localhost:8080/",
     "height": 562
    },
    "id": "LflKgEH61SKw",
    "outputId": "67fa6460-43a0-44bc-b88b-d612f4ce9221"
   },
   "outputs": [
    {
     "data": {
      "image/png": "[encoded data removed]",
      "text/plain": [
       "<Figure size 432x288 with 1 Axes>"
      ]
     },
     "metadata": {
      "needs_background": "light"
     },
     "output_type": "display_data"
    },
    {
     "data": {
      "image/png": "[encoded data removed]",
      "text/plain": [
       "<Figure size 432x288 with 1 Axes>"
      ]
     },
     "metadata": {
      "needs_background": "light"
     },
     "output_type": "display_data"
    },
    {
     "data": {
      "text/plain": [
       "<Figure size 432x288 with 0 Axes>"
      ]
     },
     "metadata": {},
     "output_type": "display_data"
    }
   ],
   "source": [
    "d_acc = decision_history.history['acc']\n",
    "d_val_acc = decision_history.history['val_acc']\n",
    "d_loss = decision_history.history['loss']\n",
    "d_val_loss = decision_history.history['val_loss']\n",
    "\n",
    "d_epochs = range(len(d_acc))\n",
    "\n",
    "plt.plot(d_epochs, d_acc, 'bo', label='Training acc')\n",
    "plt.plot(d_epochs, d_val_acc, 'b', label='Validation acc')\n",
    "plt.title('Training and validation accuracy')\n",
    "plt.legend()\n",
    "\n",
    "plt.figure()\n",
    "\n",
    "plt.plot(d_epochs, d_loss, 'bo', label='Training loss')\n",
    "plt.plot(d_epochs, d_val_loss, 'b', label='Validation loss')\n",
    "plt.title('Training and validation loss')\n",
    "plt.legend()\n",
    "\n",
    "plt.show()\n",
    "plt.clf()"
   ]
  },
  {
   "cell_type": "markdown",
   "metadata": {
    "id": "ZNYipKsf1SKw"
   },
   "source": [
    "I expect the results of testing to be better for the reason that we afforded more training of decision layer. So let' "
   ]
  },
  {
   "cell_type": "code",
   "execution_count": 24,
   "metadata": {
    "colab": {
     "base_uri": "https://localhost:8080/"
    },
    "id": "DAFhHG6a1SKw",
    "outputId": "7fced793-0e1c-4a6f-b3bc-7ae5c38837ce",
    "scrolled": true
   },
   "outputs": [
    {
     "name": "stdout",
     "output_type": "stream",
     "text": [
      "25/25 [==============================] - 0s 6ms/step - loss: 0.3335 - acc: 0.8450\n",
      "[0.3335472345352173, 0.8450000286102295]\n"
     ]
    }
   ],
   "source": [
    "d_results = decision_model.evaluate(test_features, test_labels)\n",
    "print(d_results)"
   ]
  },
  {
   "cell_type": "markdown",
   "metadata": {
    "id": "MBjr46xp1SKw"
   },
   "source": [
    "# True End-to-End decision that includes training convolutional layers of VGG16\n",
    "Everything including model is the same as before. Except before we set \"conv_base.trainable = True\". More exactly:\n",
    "<ol>\n",
    "    <li>If we look at VGG16 it consists of 5 convolutional blocks. First 4 blocks are leaning small features and the last block is summarizing features. Snce generic local features (e.g. geometric features such as graph of locations of corners on a picture) are presumably the same for all pictures of animated objects</li>\n",
    "    <li>The more parameters we are training, the more is overfitting risk! So we should train only necessary</li>\n",
    "    <li>Training more parameters requires more time. Each new parameter contributes exponentially</li>\n",
    "</ol>\n",
    "Thus we are better off not tatraining layers 1-4. So we only need to unfreeze for training the block 5. Otherwise the models are the same.  "
   ]
  },
  {
   "cell_type": "code",
   "execution_count": 25,
   "metadata": {
    "id": "g13YS7nW1SKx"
   },
   "outputs": [],
   "source": [
    "e_to_e_model = models.Sequential()\n",
    "e_to_e_model.add(conv_base)\n",
    "e_to_e_model.add(layers.Flatten())\n",
    "e_to_e_model.add(layers.Dense(256, activation='relu'))\n",
    "e_to_e_model.add(layers.Dense(1, activation='sigmoid'))\n",
    "\n",
    "conv_base.trainable = True"
   ]
  },
  {
   "cell_type": "markdown",
   "metadata": {
    "id": "gInQOOMO1SKx"
   },
   "source": [
    "Fine-tuning block 5 means that all layers up until and including block4_pool should be frozen, and the layers block5_conv1, block5_conv2 and block5_conv3 should be trainable."
   ]
  },
  {
   "cell_type": "code",
   "execution_count": 26,
   "metadata": {
    "id": "rLCDDo5B1SKx"
   },
   "outputs": [],
   "source": [
    "set_trainable = False\n",
    "for layer in conv_base.layers:\n",
    "    if layer.name == 'block5_conv1':\n",
    "        set_trainable = True\n",
    "    if set_trainable:\n",
    "        layer.trainable = True\n",
    "    else:\n",
    "        layer.trainable = False"
   ]
  },
  {
   "cell_type": "markdown",
   "metadata": {
    "id": "DbSqh5EP1SKx"
   },
   "source": [
    "The the hyperparameters of the model and performance indicator remains the same as they were with end-to-end training with frozen VGG16 weights, except for one notable exception: in the model compilation the learning rate of RMSprop optimizer is set extremely low (1e-5). The reason for it is that magnitude of modifications to feature maps of layers in block 5 needs to be limited if we want not to loose the features learned in pretraining"
   ]
  },
  {
   "cell_type": "code",
   "execution_count": 27,
   "metadata": {
    "colab": {
     "base_uri": "https://localhost:8080/"
    },
    "id": "nAGeB7hv1SKx",
    "outputId": "c418fb0b-0a2b-43a8-9721-b328b04e28b4"
   },
   "outputs": [
    {
     "name": "stdout",
     "output_type": "stream",
     "text": [
      "Epoch 1/10\n"
     ]
    },
    {
     "name": "stderr",
     "output_type": "stream",
     "text": [
      "/usr/local/lib/python3.7/dist-packages/keras/optimizer_v2/rmsprop.py:130: UserWarning: The `lr` argument is deprecated, use `learning_rate` instead.\n",
      "  super(RMSprop, self).__init__(name, **kwargs)\n"
     ]
    },
    {
     "name": "stdout",
     "output_type": "stream",
     "text": [
      "20/20 - 112s - loss: 0.5853 - acc: 0.6900 - val_loss: 0.5434 - val_acc: 0.7200 - 112s/epoch - 6s/step\n",
      "Epoch 2/10\n",
      "20/20 - 110s - loss: 0.4419 - acc: 0.8175 - val_loss: 0.4620 - val_acc: 0.7950 - 110s/epoch - 6s/step\n",
      "Epoch 3/10\n",
      "20/20 - 109s - loss: 0.3151 - acc: 0.9025 - val_loss: 0.3745 - val_acc: 0.8300 - 109s/epoch - 5s/step\n",
      "Epoch 4/10\n",
      "20/20 - 109s - loss: 0.2545 - acc: 0.9025 - val_loss: 0.3577 - val_acc: 0.8250 - 109s/epoch - 5s/step\n",
      "Epoch 5/10\n",
      "20/20 - 110s - loss: 0.1908 - acc: 0.9375 - val_loss: 0.2557 - val_acc: 0.9150 - 110s/epoch - 6s/step\n",
      "Epoch 6/10\n",
      "20/20 - 109s - loss: 0.1710 - acc: 0.9550 - val_loss: 0.3147 - val_acc: 0.8650 - 109s/epoch - 5s/step\n",
      "Epoch 7/10\n",
      "20/20 - 109s - loss: 0.1371 - acc: 0.9675 - val_loss: 0.3103 - val_acc: 0.8650 - 109s/epoch - 5s/step\n",
      "Epoch 8/10\n",
      "20/20 - 109s - loss: 0.1013 - acc: 0.9850 - val_loss: 0.2555 - val_acc: 0.8900 - 109s/epoch - 5s/step\n",
      "Epoch 9/10\n",
      "20/20 - 109s - loss: 0.0808 - acc: 0.9725 - val_loss: 0.2939 - val_acc: 0.8750 - 109s/epoch - 5s/step\n",
      "Epoch 10/10\n",
      "20/20 - 110s - loss: 0.0626 - acc: 0.9900 - val_loss: 0.2459 - val_acc: 0.8850 - 110s/epoch - 5s/step\n"
     ]
    }
   ],
   "source": [
    "e_to_e_model.compile(loss='binary_crossentropy',\n",
    "              optimizer= tf.keras.optimizers.RMSprop(lr=1e-5),\n",
    "              metrics=['acc'])\n",
    "\n",
    "e_to_e_history = e_to_e_model.fit(\n",
    "      train_generator,\n",
    "      steps_per_epoch=20,\n",
    "      epochs=10,\n",
    "      validation_data=validation_generator,\n",
    "      validation_steps=10,\n",
    "      verbose=2)"
   ]
  },
  {
   "cell_type": "markdown",
   "metadata": {
    "id": "cLQ2S3-c1SKy"
   },
   "source": [
    "Now plotting and testing"
   ]
  },
  {
   "cell_type": "code",
   "execution_count": 28,
   "metadata": {
    "colab": {
     "base_uri": "https://localhost:8080/",
     "height": 562
    },
    "id": "oAf4sOqI1SKy",
    "outputId": "319fd6c7-5fce-4885-bb7e-2d0d3114e5dc"
   },
   "outputs": [
    {
     "data": {
      "image/png": "[encoded data removed]",
      "text/plain": [
       "<Figure size 432x288 with 1 Axes>"
      ]
     },
     "metadata": {
      "needs_background": "light"
     },
     "output_type": "display_data"
    },
    {
     "data": {
      "image/png": "[encoded data removed]",
      "text/plain": [
       "<Figure size 432x288 with 1 Axes>"
      ]
     },
     "metadata": {
      "needs_background": "light"
     },
     "output_type": "display_data"
    },
    {
     "data": {
      "text/plain": [
       "<Figure size 432x288 with 0 Axes>"
      ]
     },
     "metadata": {},
     "output_type": "display_data"
    }
   ],
   "source": [
    "e_acc = e_to_e_history.history['acc']\n",
    "e_val_acc = e_to_e_history.history['val_acc']\n",
    "e_loss = e_to_e_history.history['loss']\n",
    "e_val_loss = e_to_e_history.history['val_loss']\n",
    "\n",
    "e_epochs = range(len(e_acc))\n",
    "\n",
    "plt.plot(e_epochs, e_acc, 'bo', label='Training acc')\n",
    "plt.plot(e_epochs, e_val_acc, 'b', label='Validation acc')\n",
    "plt.title('Training and validation accuracy')\n",
    "plt.legend()\n",
    "\n",
    "plt.figure()\n",
    "\n",
    "plt.plot(e_epochs, e_loss, 'bo', label='Training loss')\n",
    "plt.plot(e_epochs, e_val_loss, 'b', label='Validation loss')\n",
    "plt.title('Training and validation loss')\n",
    "plt.legend()\n",
    "\n",
    "plt.show()\n",
    "plt.clf()"
   ]
  },
  {
   "cell_type": "code",
   "execution_count": 29,
   "metadata": {
    "colab": {
     "base_uri": "https://localhost:8080/"
    },
    "id": "pbub41iG1SKy",
    "outputId": "7dc67282-1c66-4e3e-baa0-23b3d0b6964d"
   },
   "outputs": [
    {
     "name": "stdout",
     "output_type": "stream",
     "text": [
      "20/20 [==============================] - 65s 3s/step - loss: 0.1697 - acc: 0.9150\n",
      "test acc: 0.9150000214576721\n"
     ]
    }
   ],
   "source": [
    "e_test_loss, e_test_acc = e_to_e_model.evaluate(test_generator, steps=20)\n",
    "print('test acc:', e_test_acc)"
   ]
  }
 ],
 "metadata": {
  "colab": {
   "name": "Using_Pretrained_NN.ipynb",
   "provenance": []
  },
  "kernelspec": {
   "display_name": "Python [conda env:my_tf]",
   "language": "python",
   "name": "conda-env-my_tf-py"
  },
  "language_info": {
   "codemirror_mode": {
    "name": "ipython",
    "version": 3
   },
   "file_extension": ".py",
   "mimetype": "text/x-python",
   "name": "python",
   "nbconvert_exporter": "python",
   "pygments_lexer": "ipython3",
   "version": "3.7.9"
  }
 },
 "nbformat": 4,
 "nbformat_minor": 1
}
