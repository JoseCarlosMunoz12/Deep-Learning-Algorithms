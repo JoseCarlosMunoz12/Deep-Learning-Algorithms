{
 "cells": [
  {
   "cell_type": "markdown",
   "metadata": {},
   "source": [
    "# Word2Vec\n",
    "This time we'll do word prediction using word2vec approach \n",
    "## Data\n",
    "Data is taken form recent Kaggle Toxic comment competition. Fields of CSV file are\n",
    "<ul>\n",
    "    <li>Source Address (IP/url or Ethernet/Physical)</li>\n",
    "    <li> Comment</li>\n",
    "</ul>\n",
    "In addition in training file one hot encoding of classification type, total 6 types: \n",
    "<ul>\n",
    "    <li>\"toxic\",</li>\n",
    "    <li>\"severe_toxic\",</li>\n",
    "    <li>\"obscene\", </li>\n",
    "    <li>\"threat\",</li>\n",
    "    <li>\"insult\",</li>\n",
    "    <li>\"identity_hate\"</li>\n",
    "</ul>\n",
    "One hot means that to every type correspond a field (column) of the input and each comment/row has 1 in one of these fields (i.e. in the filed corresponding to the type associated to it) and 0 in all others.\n",
    "## Packages\n",
    "NLTK- natural language tool kit library that allows to process text.\n",
    "<ul>\n",
    "    <li>Tokenization: given a comment treated as a sequence of words, we need to chop it up into pieces, called tokens (words possibly with drop of some parts).</li>\n",
    "    <li>Tokenizer is used in conjuction with string operations that throw away certain characters, such as punctuation and prefix/suffix. </li>\n",
    "    <li>Tokenizer also usually needs a same case words so we need operation that convert to lowercase all text</li>\n",
    "    <li> Tokenization creates bag of words model. If we take into account window size and embedding into $\\mathbb{R}^𝑛$ this will be CBOW model</li>\n",
    "</ul>    "
   ]
  },
  {
   "cell_type": "code",
   "execution_count": 1,
   "metadata": {},
   "outputs": [],
   "source": [
    "import pandas as pd\n",
    "import numpy as np\n",
    "import os\n",
    "import matplotlib.pyplot as plt\n",
    "from nltk.tokenize import WordPunctTokenizer"
   ]
  },
  {
   "cell_type": "markdown",
   "metadata": {},
   "source": [
    "nltk.tokenize has dependency on sqllite3 that needs to be loaded. If it does not load automatically then it needs to be loaded manually: \n",
    "<ol>\n",
    "    <li>download the sqllite3 dll binary from https://www.sqlite.org/download.html. Use appropriate binary for your system and your computer.</li> \n",
    "    <li>unzip dll and put it into 2 directories one is where anaconda dll's are - in my case it is  C:\\Users\\YOURUSERName\\Anaconda3\\DLLs and into a folder where your environment is. \n",
    "    <li> To find out where it is run from terminal >conda info --envs it will give you the environment folder. In my case C:\\Users\\YOURUSERname\\Anaconda3\\envs\\</li>\n",
    "</ol>"
   ]
  },
  {
   "cell_type": "markdown",
   "metadata": {},
   "source": [
    "Also we need the following additional packages that are standard to python:\n",
    "<ol>\n",
    "    <li>regex\n",
    "        <ul>\n",
    "            <li> It allows to write regular expressions that then are matched using functions findall, replace, search, split. \n",
    "Expressions are written using special symbols (e.g  sub$ - everything that ends with sub before CR) that allow for repetitions. See  https://docs.python.org/3/library/re.html for symbols. It also loads data and parses it (see the below)</li>\n",
    "        </ul>\n",
    "    </li>\n",
    "    <li>string\n",
    "    <uL>\n",
    "       <li> functions that remove punctuation and converts to lowercase\n",
    "    </ul></li>\n",
    "    <li>counter\n",
    "    <ul>\n",
    "        <li> Counter is a container that keeps track of how many times equivalent values are added. It is used to implement bag/multiset data structures.</li>\n",
    "        </ul></li>\n",
    "    <li>tqdm\n",
    "    <ul>\n",
    "    <li>allows to show progress, and predicts the remaining time as you move over the task</li>\n",
    "    </ul>\n",
    "    </li>\n",
    "<ol>"
   ]
  },
  {
   "cell_type": "code",
   "execution_count": 2,
   "metadata": {},
   "outputs": [],
   "source": [
    "from collections import Counter\n",
    "from string import punctuation, ascii_lowercase\n",
    "import regex as re\n",
    "from tqdm import tqdm"
   ]
  },
  {
   "cell_type": "markdown",
   "metadata": {},
   "source": [
    "## Input data\n",
    "As usual check if we are in Google colab or working locally"
   ]
  },
  {
   "cell_type": "code",
   "execution_count": 3,
   "metadata": {},
   "outputs": [],
   "source": [
    "try:\n",
    "    from google.colab import drive\n",
    "    IN_COLAB=True\n",
    "except:\n",
    "    IN_COLAB=False"
   ]
  },
  {
   "cell_type": "markdown",
   "metadata": {},
   "source": [
    "Set the path to the directory into which the original dataset is located. New Python twist: I assume that data is located in a subdirectory of a directory from which we launched the program.I also assume that comments are already split into 'train.csv' file and 'test.csv' that are located in this subdirectory"
   ]
  },
  {
   "cell_type": "code",
   "execution_count": 4,
   "metadata": {
    "scrolled": true
   },
   "outputs": [
    {
     "name": "stdout",
     "output_type": "stream",
     "text": [
      "                 id                                       comment_text  toxic  \\\n",
      "0  0000997932d777bf  Explanation\\nWhy the edits made under my usern...      0   \n",
      "1  000103f0d9cfb60f  D'aww! He matches this background colour I'm s...      0   \n",
      "2  000113f07ec002fd  Hey man, I'm really not trying to edit war. It...      0   \n",
      "3  0001b41b1c6bb37e  \"\\nMore\\nI can't make any real suggestions on ...      0   \n",
      "4  0001d958c54c6e35  You, sir, are my hero. Any chance you remember...      0   \n",
      "5  00025465d4725e87  \"\\n\\nCongratulations from me as well, use the ...      0   \n",
      "6  0002bcb3da6cb337       COCKSUCKER BEFORE YOU PISS AROUND ON MY WORK      1   \n",
      "7  00031b1e95af7921  Your vandalism to the Matt Shirvington article...      0   \n",
      "8  00037261f536c51d  Sorry if the word 'nonsense' was offensive to ...      0   \n",
      "9  00040093b2687caa  alignment on this subject and which are contra...      0   \n",
      "\n",
      "   severe_toxic  obscene  threat  insult  identity_hate  \n",
      "0             0        0       0       0              0  \n",
      "1             0        0       0       0              0  \n",
      "2             0        0       0       0              0  \n",
      "3             0        0       0       0              0  \n",
      "4             0        0       0       0              0  \n",
      "5             0        0       0       0              0  \n",
      "6             1        1       0       1              0  \n",
      "7             0        0       0       0              0  \n",
      "8             0        0       0       0              0  \n",
      "9             0        0       0       0              0  \n"
     ]
    }
   ],
   "source": [
    "if not IN_COLAB:\n",
    "#    dir_path = os.path.dirname(os.path.realpath(os.getcwd()))\n",
    "    dir_path = os.getcwd()\n",
    "    data_dir = os.path.join(dir_path, 'Data/ToxicComment')\n",
    "else:\n",
    "    drive.mount('/content/gdrive')\n",
    "    dir_path = os.path.dirname(os.path.realpath(os.path.abspath('')))\n",
    "    data_dir = os.path.join(dir_path, '/content/gdrive/My Drive/courses/Deep Learning/data/ToxicComment')\n",
    "if not os.path.exists(data_dir):\n",
    "    exit(3)\n",
    "else:\n",
    "    TRAIN_DATA_FILE=os.path.join(data_dir,'train.csv')\n",
    "    TEST_DATA_FILE=os.path.join(data_dir,'test.csv')\n",
    "    train_df = pd.read_csv(TRAIN_DATA_FILE)\n",
    "    test_df = pd.read_csv(TEST_DATA_FILE)\n",
    "    print(train_df.head(10))"
   ]
  },
  {
   "cell_type": "markdown",
   "metadata": {},
   "source": [
    "## Data Preprocessing\n",
    "Compile expressions to replace urls and ip addresses. These are irrelevant for classification so we replace these. In particular re.compile compiles a regular expression pattern into a regular expression object, which can be used for matching using its match(), search() and other methods. So what it says here that url is a raw expression that begins with \"http\" or \"https\" next must come \":\" and \"//\" where \"?at the end is a symbol that allows either 0 or 1 occurence of last symbol (so it could be either \"/\" or \"//\"), then alpha numeric text up to a \".\", etc. I didn't invent this expression this is well-known expression that I took from https://www.codegrepper.com/code-examples/python/match+url+regex+python. Same for ip adress https://stackoverflow.com/questions/19435366/python-regex-logic-for-matching-ip-addresses   "
   ]
  },
  {
   "cell_type": "code",
   "execution_count": 5,
   "metadata": {},
   "outputs": [],
   "source": [
    "re_url = re.compile(r\"((http|https)\\:\\/\\/)?[a-zA-Z0-9\\.\\/\\?\\:@\\-_=#]+\\\n",
    "                    .([a-zA-Z]){2,6}([a-zA-Z0-9\\.\\&\\/\\?\\:@\\-_=#])*\",\n",
    "                    re.MULTILINE | re.UNICODE)\n",
    "re_ip = re.compile(\"\\d{1,3}\\.\\d{1,3}\\.\\d{1,3}\\.\\d{1,3}\")"
   ]
  },
  {
   "cell_type": "markdown",
   "metadata": {},
   "source": [
    "setup tokenizer and word counter"
   ]
  },
  {
   "cell_type": "code",
   "execution_count": 6,
   "metadata": {},
   "outputs": [],
   "source": [
    "tokenizer = WordPunctTokenizer()\n",
    "vocab = Counter()"
   ]
  },
  {
   "cell_type": "markdown",
   "metadata": {},
   "source": [
    "In the next function I remove url substituting it by word \"url\" and \"ipaddress\" by word \"ipaddress\", tokenize text and convert it to lowercase (if corresponding argument is given). the counter for the new token that was just created is given. Function x.sub(y,text) matches occuresnce of x in the text and subbs this occurence with word y. Function tokenizer.tokenize(x) splits the text x into bag of words removing punctuations (this is what word.punct toknizer does) and returns the list of separate words. The x.update(list) for x counter takes the list and converts it to a dictionary in which each word occurs exactly once (second occurence is ignored). In other words a word is the value in this dictionary and its number (in the order of occurences) is the key."
   ]
  },
  {
   "cell_type": "code",
   "execution_count": 7,
   "metadata": {},
   "outputs": [],
   "source": [
    "def text_to_wordlist(text, lower=False):\n",
    "    text = re_url.sub(\"URL\", text)\n",
    "    text = re_ip.sub(\"IPADDRESS\", text)\n",
    "    text = tokenizer.tokenize(text)\n",
    "    if lower:\n",
    "        text = [t.lower() for t in text]\n",
    "    vocab.update(text)\n",
    "    return text"
   ]
  },
  {
   "cell_type": "markdown",
   "metadata": {},
   "source": [
    "The netx function is essentially an envelope that allows to show progress by showing progress moving through separate comments.\n",
    "Each comment is tokenized and appended to comments that are returned as one ‘long sentence’ of words"
   ]
  },
  {
   "cell_type": "code",
   "execution_count": 8,
   "metadata": {},
   "outputs": [],
   "source": [
    "def process_comments(list_sentences, lower=False):\n",
    "    comments = []\n",
    "    for text in tqdm(list_sentences):\n",
    "        txt = text_to_wordlist(text, lower=lower)\n",
    "        comments.append(txt)\n",
    "    return comments"
   ]
  },
  {
   "cell_type": "markdown",
   "metadata": {},
   "source": [
    "Now remove from the input entries for which value of comment_text column are not defined (NAN_WORD)). Do that for test and for train sequences. Then using described functions process_comments and text_toword list convert every both training and testing comments into one dictionary of tokens that contains words with numbers of their occurences "
   ]
  },
  {
   "cell_type": "code",
   "execution_count": 9,
   "metadata": {
    "scrolled": true
   },
   "outputs": [
    {
     "name": "stderr",
     "output_type": "stream",
     "text": [
      "100%|███████████████████████████████████████████████████████████████████████| 312735/312735 [00:15<00:00, 20145.25it/s]"
     ]
    },
    {
     "name": "stdout",
     "output_type": "stream",
     "text": [
      "The vocabulary contains 365516 unique tokens\n"
     ]
    },
    {
     "name": "stderr",
     "output_type": "stream",
     "text": [
      "\n"
     ]
    }
   ],
   "source": [
    "list_sentences_train = list(train_df[\"comment_text\"].fillna(\"NAN_WORD\").values)\n",
    "list_sentences_test = list(test_df[\"comment_text\"].fillna(\"NAN_WORD\").values)\n",
    "\n",
    "comments = process_comments(list_sentences_train + list_sentences_test, lower=True)\n",
    "print(\"The vocabulary contains {} unique tokens\".format(len(vocab)))"
   ]
  },
  {
   "cell_type": "markdown",
   "metadata": {},
   "source": [
    "We use Gensim is a library for unsupervised topic modeling and natural language processing. It has implemented word2vec layer that I use/import here. The argumnets of the layer are:\n",
    "<ul>\n",
    "    <li>Our input is in comments</Li>\n",
    "    <li>The size is the number of output channels (neurons) = dimesionality of output vector. As always wider NN is, more training data it requires, longer is the training </li>\n",
    "    <li> Window is the maximum distance between the current and predicted word within a sentence. For example when window is 5 and our word is number 7, then we'll take window words on the left and window words on the right of our target - (2,6) and (8,12)</li>\n",
    "    <li>Min_count is for ignoring all words with total frequency lower than this.</li>\n",
    "    <li>Workers, number of simultaneous threads run (as much as I have processors on my computer)</li>\n",
    "    <li>Sg – choice of algorithms (1-skipgram, 0- CBOW)</li>\n",
    "    <li>Negative – how many negative words for sampling will be drawn(so that output won’t be of dim d)</li>\n",
    "</ul>\n",
    "So I set up the w2v layer and I then train this layer on my text and save vectors: \n",
    "\n",
    "    - word_vectors = model.wv\n",
    "This command returns dictionary of vectors of words with the key to the vector being the word itself. I then print cosine similarity model.wv.most_similar_cosmul between words on vetors that we computed (i.e. normalized dot product between these vectors) and print it out."
   ]
  },
  {
   "cell_type": "code",
   "execution_count": 10,
   "metadata": {
    "scrolled": false
   },
   "outputs": [
    {
     "name": "stdout",
     "output_type": "stream",
     "text": [
      "Number of word vectors: 70056\n",
      "[('prince', 0.9865513443946838), ('queen', 0.9859681725502014), ('princess', 0.9757775664329529), ('bishop', 0.9443601369857788), ('mary', 0.9398441910743713), ('duchess', 0.9262488484382629), ('scotland', 0.9131278991699219), ('elizabeth', 0.9131265878677368), ('emperor', 0.9101772904396057), ('pope', 0.9052255749702454)]\n"
     ]
    }
   ],
   "source": [
    "from gensim.models import Word2Vec\n",
    "model = Word2Vec(comments, size=100, window=5, min_count=5, workers=16, sg=0, negative=5)\n",
    "word_vectors = model.wv\n",
    "print(\"Number of word vectors: {}\".format(len(word_vectors.vocab)))\n",
    "print(model.wv.most_similar_cosmul(positive=['woman', 'king'], negative=['man']))"
   ]
  },
  {
   "cell_type": "markdown",
   "metadata": {},
   "source": [
    "Set up the maximum length of the sequence (i.e. for comment to be analyzed its max length is set to 200) and the total number of vectorized words that is all words we vectorized. We then take vocabulary (dictionary \\<word, number of occurences)\\>) to direct word index (dictionary \\<word, its number in the order of occurences in vocabulary\\>). And the convert comments into sequence of words into sequence of numbers (actually list of numbers) where each word is subsituted by its number in the word index. Thus the set of all train sequences (trraining comments) are going to be the list of lists of numbers. The Pad_sequences function transforms a list of sequences (i.e. list of lists of integers) into a 2D Numpy array of shape (number of lists, maxlen). Pad before conversion if shorter, truncate after conversion if longer. I do conversion for both training data and testing data."
   ]
  },
  {
   "cell_type": "code",
   "execution_count": 11,
   "metadata": {},
   "outputs": [
    {
     "name": "stderr",
     "output_type": "stream",
     "text": [
      "Using TensorFlow backend.\n"
     ]
    }
   ],
   "source": [
    "MAX_NB_WORDS = len(word_vectors.vocab)\n",
    "MAX_SEQUENCE_LENGTH = 200\n",
    "\n",
    "from keras.preprocessing.sequence import pad_sequences\n",
    "\n",
    "word_index = {t[0]: i+1 for i,t in enumerate(vocab.most_common(MAX_NB_WORDS))}\n",
    "sequences = [[word_index.get(t, 0) for t in comment]\n",
    "             for comment in comments[:len(list_sentences_train)]]\n",
    "test_sequences = [[word_index.get(t, 0)  for t in comment]\n",
    "                  for comment in comments[len(list_sentences_train):]]\n",
    "\n",
    "data = pad_sequences(sequences, maxlen=MAX_SEQUENCE_LENGTH,\n",
    "                     padding=\"pre\", truncating=\"post\")"
   ]
  },
  {
   "cell_type": "markdown",
   "metadata": {},
   "source": [
    "Then I create a list of exiting classes in training sequences, and I pull out of training data frame a 2D array of true values of one hot encoded classes. So y vector is now the hot encoded cllassification vector for training data. Finally I print shapes of the data and classification array."
   ]
  },
  {
   "cell_type": "code",
   "execution_count": 12,
   "metadata": {},
   "outputs": [
    {
     "name": "stdout",
     "output_type": "stream",
     "text": [
      "Shape of data tensor: (159571, 200)\n",
      "Shape of label tensor: (159571, 6)\n"
     ]
    }
   ],
   "source": [
    "list_classes = [\"toxic\", \"severe_toxic\", \"obscene\", \"threat\", \"insult\", \"identity_hate\"]\n",
    "y = train_df[list_classes].values\n",
    "print('Shape of data tensor:', data.shape)\n",
    "print('Shape of label tensor:', y.shape)"
   ]
  },
  {
   "cell_type": "markdown",
   "metadata": {},
   "source": [
    "I now pad test sequences"
   ]
  },
  {
   "cell_type": "code",
   "execution_count": 13,
   "metadata": {
    "scrolled": true
   },
   "outputs": [
    {
     "name": "stdout",
     "output_type": "stream",
     "text": [
      "Shape of test_data tensor: (153164, 200)\n"
     ]
    }
   ],
   "source": [
    "test_data = pad_sequences(test_sequences, maxlen=MAX_SEQUENCE_LENGTH, padding=\"pre\",\n",
    "                          truncating=\"post\")\n",
    "print('Shape of test_data tensor:', test_data.shape)"
   ]
  },
  {
   "cell_type": "markdown",
   "metadata": {},
   "source": [
    "I initialize the matrix with random numbers."
   ]
  },
  {
   "cell_type": "code",
   "execution_count": 14,
   "metadata": {
    "scrolled": true
   },
   "outputs": [
    {
     "name": "stdout",
     "output_type": "stream",
     "text": [
      "70057\n"
     ]
    }
   ],
   "source": [
    "WV_DIM = 100\n",
    "nb_words = min(MAX_NB_WORDS, len(word_vectors.vocab))+1\n",
    "print(nb_words)\n",
    "wv_matrix = (np.random.rand(nb_words, WV_DIM) - 0.5) / 5.0"
   ]
  },
  {
   "cell_type": "markdown",
   "metadata": {},
   "source": [
    "Lookup a word in the index of words. If the word number is less than the total number of vectorized words, t n it would be found in the index if it has enough occurences, and then we retrieve its vectors and set corresponding row of matrix to this vector. \n",
    "If a word was not found then in index (small number of occurences) then its row will be passed, i.e. be random as it was inititalized"
   ]
  },
  {
   "cell_type": "code",
   "execution_count": 15,
   "metadata": {},
   "outputs": [],
   "source": [
    "for word, i in word_index.items():\n",
    "    if i >= MAX_NB_WORDS:\n",
    "        continue\n",
    "    try:\n",
    "        embedding_vector = word_vectors[word]\n",
    "        wv_matrix[i] = embedding_vector\n",
    "    except:\n",
    "        pass"
   ]
  },
  {
   "cell_type": "markdown",
   "metadata": {},
   "source": [
    "In embedding layer each value in the input_array each input integer is used as the index to access a table that contains all posible vectors - that is weights vector of our wv matrix. That is the reason why you need to specify the size of the vocabulary as the first argument.\n",
    "Layer arguments are:\n",
    "<ul>\n",
    "    <li>Size of the vocabulary, i.e. maximum integer index + 1 (nb_words that we defined)</li>\n",
    "    <li>Dimension of the embedding</li>\n",
    "<li>Mask_zero is  whether or not the input value 0 is a special \"padding\" value that should be masked out; not in our case</li>\n",
    "</ul>\n",
    "This layer is non-trainable – we already computed vectorization. It is given as weights matrix!"
   ]
  },
  {
   "cell_type": "code",
   "execution_count": 16,
   "metadata": {},
   "outputs": [],
   "source": [
    "from keras.layers import Embedding\n",
    "wv_layer = Embedding(nb_words,\n",
    "                     WV_DIM,\n",
    "                     mask_zero=False,\n",
    "                     weights=[wv_matrix],\n",
    "                     input_length=MAX_SEQUENCE_LENGTH,\n",
    "                     trainable=False)"
   ]
  },
  {
   "cell_type": "markdown",
   "metadata": {},
   "source": [
    "The network model is standard shallow except the first layer is embedding that we already defined. Middle layer is dense with 32 relu neurons and output layer is softmax classifying in 6 classes so loss is crossnetropy which is standard for softmax\n",
    "Backpropagation is rmsprop (later). Metric that we are looking at is accuracy  "
   ]
  },
  {
   "cell_type": "code",
   "execution_count": 17,
   "metadata": {
    "scrolled": true
   },
   "outputs": [
    {
     "name": "stdout",
     "output_type": "stream",
     "text": [
      "Model: \"sequential_1\"\n",
      "_________________________________________________________________\n",
      "Layer (type)                 Output Shape              Param #   \n",
      "=================================================================\n",
      "embedding_1 (Embedding)      (None, 200, 100)          7005700   \n",
      "_________________________________________________________________\n",
      "flatten_1 (Flatten)          (None, 20000)             0         \n",
      "_________________________________________________________________\n",
      "dense_1 (Dense)              (None, 32)                640032    \n",
      "_________________________________________________________________\n",
      "dense_2 (Dense)              (None, 6)                 198       \n",
      "=================================================================\n",
      "Total params: 7,645,930\n",
      "Trainable params: 640,230\n",
      "Non-trainable params: 7,005,700\n",
      "_________________________________________________________________\n"
     ]
    }
   ],
   "source": [
    "from keras.models import Sequential\n",
    "from keras.layers import Flatten, Dense\n",
    "model = Sequential()\n",
    "model.add(wv_layer)\n",
    "model.add(Flatten())\n",
    "model.add(Dense(32, activation='relu'))\n",
    "model.add(Dense(6, activation='softmax'))\n",
    "model.summary()"
   ]
  },
  {
   "cell_type": "markdown",
   "metadata": {},
   "source": [
    "Train on our data (list of lists of numbers representing words) taking 0.1 of all lists for validation, prepared list of true classes, with standard batch size. Record history object for plotting"
   ]
  },
  {
   "cell_type": "code",
   "execution_count": 19,
   "metadata": {
    "scrolled": true
   },
   "outputs": [
    {
     "name": "stdout",
     "output_type": "stream",
     "text": [
      "Train on 143613 samples, validate on 15958 samples\n",
      "Epoch 1/10\n",
      "143613/143613 [==============================] - 11s 75us/step - loss: 0.2205 - acc: 0.9667 - val_loss: 0.2302 - val_acc: 0.9638\n",
      "Epoch 2/10\n",
      "143613/143613 [==============================] - 10s 71us/step - loss: 0.2203 - acc: 0.9668 - val_loss: 0.2305 - val_acc: 0.9634\n",
      "Epoch 3/10\n",
      "143613/143613 [==============================] - 10s 68us/step - loss: 0.2201 - acc: 0.9668 - val_loss: 0.2303 - val_acc: 0.9638\n",
      "Epoch 4/10\n",
      "143613/143613 [==============================] - 10s 66us/step - loss: 0.2200 - acc: 0.9669 - val_loss: 0.2301 - val_acc: 0.9636\n",
      "Epoch 5/10\n",
      "143613/143613 [==============================] - 10s 70us/step - loss: 0.2198 - acc: 0.9669 - val_loss: 0.2311 - val_acc: 0.9632\n",
      "Epoch 6/10\n",
      "143613/143613 [==============================] - 10s 72us/step - loss: 0.2197 - acc: 0.9671 - val_loss: 0.2309 - val_acc: 0.9637\n",
      "Epoch 7/10\n",
      "143613/143613 [==============================] - 11s 75us/step - loss: 0.2196 - acc: 0.9671 - val_loss: 0.2322 - val_acc: 0.9633\n",
      "Epoch 8/10\n",
      "143613/143613 [==============================] - 11s 75us/step - loss: 0.2195 - acc: 0.9671 - val_loss: 0.2316 - val_acc: 0.9639\n",
      "Epoch 9/10\n",
      "143613/143613 [==============================] - 11s 76us/step - loss: 0.2194 - acc: 0.9672 - val_loss: 0.2314 - val_acc: 0.9636\n",
      "Epoch 10/10\n",
      "143613/143613 [==============================] - 11s 79us/step - loss: 0.2193 - acc: 0.9672 - val_loss: 0.2316 - val_acc: 0.9633\n"
     ]
    }
   ],
   "source": [
    "model.compile(optimizer='rmsprop',\n",
    "loss='binary_crossentropy',\n",
    "#loss='categorical_crossentropy',\n",
    "metrics=['acc'])\n",
    "history = model.fit([data], y, validation_split=0.1,\n",
    "                 epochs=10, batch_size=256, shuffle=True)"
   ]
  },
  {
   "cell_type": "code",
   "execution_count": 22,
   "metadata": {},
   "outputs": [
    {
     "name": "stdout",
     "output_type": "stream",
     "text": [
      "dict_keys(['val_loss', 'val_acc', 'loss', 'acc'])\n"
     ]
    }
   ],
   "source": [
    "history_dict = history.history\n",
    "print(history_dict.keys())\n",
    "history = pd.DataFrame(history.history)"
   ]
  },
  {
   "cell_type": "markdown",
   "metadata": {},
   "source": [
    "I set up ggplot style that is standard for many pythong and R plotting procedures - gives better graphics. Plot as usual except this time I decided to save it into a file so needed to create a path to it"
   ]
  },
  {
   "cell_type": "code",
   "execution_count": 29,
   "metadata": {
    "scrolled": true
   },
   "outputs": [
    {
     "data": {
      "image/png": "[encoded data removed]",
      "text/plain": [
       "<Figure size 864x288 with 1 Axes>"
      ]
     },
     "metadata": {},
     "output_type": "display_data"
    },
    {
     "data": {
      "text/plain": [
       "<Figure size 432x288 with 0 Axes>"
      ]
     },
     "metadata": {},
     "output_type": "display_data"
    }
   ],
   "source": [
    "plt.style.use(\"ggplot\")\n",
    "plt.figure(figsize=(12,4))\n",
    "plt.plot(history[\"loss\"])\n",
    "plt.plot(history[\"val_loss\"])\n",
    "plt.title(\"Loss with Word2Vec word vectors\")\n",
    "plt.show()\n",
    "file_save = os.path.join(dir_path, 'Data/ToxicComment/plot.png')\n",
    "plt.savefig(file_save)"
   ]
  },
  {
   "cell_type": "code",
   "execution_count": 28,
   "metadata": {
    "scrolled": true
   },
   "outputs": [
    {
     "data": {
      "image/png": "[encoded data removed]",
      "text/plain": [
       "<Figure size 864x288 with 1 Axes>"
      ]
     },
     "metadata": {},
     "output_type": "display_data"
    }
   ],
   "source": [
    "plt.style.use(\"ggplot\")\n",
    "plt.figure(figsize=(12,4))\n",
    "plt.plot(history[\"acc\"])\n",
    "plt.plot(history[\"val_acc\"])\n",
    "plt.title(\"accuracy with Word2Vec word vectors\")\n",
    "plt.show()"
   ]
  },
  {
   "cell_type": "markdown",
   "metadata": {},
   "source": [
    "Next to predict. Prediction on test data returns probabilities of all 6 classes as a separate numpy array so need to convert to dataframe with correct names of colums. Then I find the name of the column with maximum value (type.idxmax(axis=1), and put this name into a new data frame with one column named ‘class’. Then merge the original test data frame with ‘class’ data frame and save it. "
   ]
  },
  {
   "cell_type": "code",
   "execution_count": 30,
   "metadata": {},
   "outputs": [],
   "source": [
    "type = model.predict([test_data])\n",
    "type = pd.DataFrame(type,columns=['toxic', 'severe_toxic', 'obscene', 'threat', 'insult', 'identity_hate'])\n",
    "type1=pd.DataFrame(type.idxmax(axis=1),columns=['class'])\n",
    "test_ndf =pd.concat([test_df, type1], axis=1)\n",
    "df_save = os.path.join(dir_path, 'Data/ToxicComment/text_classified.csv')\n",
    "test_ndf.to_csv(df_save, index=False)"
   ]
  }
 ],
 "metadata": {
  "kernelspec": {
   "display_name": "Python [conda env:my_tf]",
   "language": "python",
   "name": "conda-env-my_tf-py"
  },
  "language_info": {
   "codemirror_mode": {
    "name": "ipython",
    "version": 3
   },
   "file_extension": ".py",
   "mimetype": "text/x-python",
   "name": "python",
   "nbconvert_exporter": "python",
   "pygments_lexer": "ipython3",
   "version": "3.7.9"
  }
 },
 "nbformat": 4,
 "nbformat_minor": 4
}
