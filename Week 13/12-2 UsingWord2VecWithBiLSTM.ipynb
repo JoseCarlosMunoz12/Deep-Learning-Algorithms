{
 "cells": [
  {
   "cell_type": "markdown",
   "metadata": {},
   "source": [
    "# Word2Vec with BiLSTM\n",
    "This time we'll do word prediction using word2vec approach \n",
    "## Data\n",
    "Data is taken form recent Kaggle Toxic comment competition. Fields of CSV file are\n",
    "<ul>\n",
    "    <li>Source Address (IP/url or Ethernet/Physical)</li>\n",
    "    <li> Comment</li>\n",
    "</ul>\n",
    "In addition in training file one hot encoding of classification type, total 6 types: \n",
    "<ul>\n",
    "    <li>\"toxic\",</li>\n",
    "    <li>\"severe_toxic\",</li>\n",
    "    <li>\"obscene\", </li>\n",
    "    <li>\"threat\",</li>\n",
    "    <li>\"insult\",</li>\n",
    "    <li>\"identity_hate\"</li>\n",
    "</ul>\n",
    "One hot means that to every type correspond a field (column) of the input and each comment/row has 1 in one of these fields (i.e. in the filed corresponding to the type associated to it) and 0 in all others.\n",
    "Packages are same as before\n",
    "# Preprocessing \n",
    "Exactly the same as before"
   ]
  },
  {
   "cell_type": "code",
   "execution_count": 1,
   "metadata": {},
   "outputs": [],
   "source": [
    "import pandas as pd\n",
    "import numpy as np\n",
    "import os\n",
    "import matplotlib.pyplot as plt\n",
    "from nltk.tokenize import WordPunctTokenizer"
   ]
  },
  {
   "cell_type": "code",
   "execution_count": 2,
   "metadata": {},
   "outputs": [],
   "source": [
    "from collections import Counter\n",
    "from string import punctuation, ascii_lowercase\n",
    "import regex as re\n",
    "from tqdm import tqdm"
   ]
  },
  {
   "cell_type": "code",
   "execution_count": 3,
   "metadata": {},
   "outputs": [],
   "source": [
    "try:\n",
    "    from google.colab import drive\n",
    "    IN_COLAB=True\n",
    "except:\n",
    "    IN_COLAB=False"
   ]
  },
  {
   "cell_type": "code",
   "execution_count": 4,
   "metadata": {
    "scrolled": true
   },
   "outputs": [
    {
     "name": "stdout",
     "output_type": "stream",
     "text": [
      "                 id                                       comment_text  toxic  \\\n",
      "0  0000997932d777bf  Explanation\\nWhy the edits made under my usern...      0   \n",
      "1  000103f0d9cfb60f  D'aww! He matches this background colour I'm s...      0   \n",
      "2  000113f07ec002fd  Hey man, I'm really not trying to edit war. It...      0   \n",
      "3  0001b41b1c6bb37e  \"\\nMore\\nI can't make any real suggestions on ...      0   \n",
      "4  0001d958c54c6e35  You, sir, are my hero. Any chance you remember...      0   \n",
      "5  00025465d4725e87  \"\\n\\nCongratulations from me as well, use the ...      0   \n",
      "6  0002bcb3da6cb337       COCKSUCKER BEFORE YOU PISS AROUND ON MY WORK      1   \n",
      "7  00031b1e95af7921  Your vandalism to the Matt Shirvington article...      0   \n",
      "8  00037261f536c51d  Sorry if the word 'nonsense' was offensive to ...      0   \n",
      "9  00040093b2687caa  alignment on this subject and which are contra...      0   \n",
      "\n",
      "   severe_toxic  obscene  threat  insult  identity_hate  \n",
      "0             0        0       0       0              0  \n",
      "1             0        0       0       0              0  \n",
      "2             0        0       0       0              0  \n",
      "3             0        0       0       0              0  \n",
      "4             0        0       0       0              0  \n",
      "5             0        0       0       0              0  \n",
      "6             1        1       0       1              0  \n",
      "7             0        0       0       0              0  \n",
      "8             0        0       0       0              0  \n",
      "9             0        0       0       0              0  \n"
     ]
    }
   ],
   "source": [
    "if not IN_COLAB:\n",
    "#    dir_path = os.path.dirname(os.path.realpath(os.getcwd()))\n",
    "    dir_path = os.getcwd()\n",
    "    data_dir = os.path.join(dir_path, 'Data/ToxicComment')\n",
    "else:\n",
    "    drive.mount('/content/gdrive')\n",
    "    dir_path = os.path.dirname(os.path.realpath(os.path.abspath('')))\n",
    "    data_dir = os.path.join(dir_path, '/content/gdrive/My Drive/courses/Deep Learning/data/ToxicComment')\n",
    "if not os.path.exists(data_dir):\n",
    "    exit(3)\n",
    "else:\n",
    "    TRAIN_DATA_FILE=os.path.join(data_dir,'train.csv')\n",
    "    TEST_DATA_FILE=os.path.join(data_dir,'test.csv')\n",
    "    train_df = pd.read_csv(TRAIN_DATA_FILE)\n",
    "    test_df = pd.read_csv(TEST_DATA_FILE)\n",
    "    print(train_df.head(10))"
   ]
  },
  {
   "cell_type": "code",
   "execution_count": 5,
   "metadata": {},
   "outputs": [],
   "source": [
    "re_url = re.compile(r\"((http|https)\\:\\/\\/)?[a-zA-Z0-9\\.\\/\\?\\:@\\-_=#]+\\\n",
    "                    .([a-zA-Z]){2,6}([a-zA-Z0-9\\.\\&\\/\\?\\:@\\-_=#])*\",\n",
    "                    re.MULTILINE | re.UNICODE)\n",
    "re_ip = re.compile(\"\\d{1,3}\\.\\d{1,3}\\.\\d{1,3}\\.\\d{1,3}\")"
   ]
  },
  {
   "cell_type": "code",
   "execution_count": 6,
   "metadata": {},
   "outputs": [],
   "source": [
    "tokenizer = WordPunctTokenizer()\n",
    "vocab = Counter()"
   ]
  },
  {
   "cell_type": "code",
   "execution_count": 7,
   "metadata": {},
   "outputs": [],
   "source": [
    "def text_to_wordlist(text, lower=False):\n",
    "    text = re_url.sub(\"URL\", text)\n",
    "    text = re_ip.sub(\"IPADDRESS\", text)\n",
    "    text = tokenizer.tokenize(text)\n",
    "    if lower:\n",
    "        text = [t.lower() for t in text]\n",
    "    vocab.update(text)\n",
    "    return text"
   ]
  },
  {
   "cell_type": "code",
   "execution_count": 8,
   "metadata": {},
   "outputs": [],
   "source": [
    "def process_comments(list_sentences, lower=False):\n",
    "    comments = []\n",
    "    for text in tqdm(list_sentences):\n",
    "        txt = text_to_wordlist(text, lower=lower)\n",
    "        comments.append(txt)\n",
    "    return comments"
   ]
  },
  {
   "cell_type": "code",
   "execution_count": 9,
   "metadata": {
    "scrolled": true
   },
   "outputs": [
    {
     "name": "stderr",
     "output_type": "stream",
     "text": [
      "100%|███████████████████████████████████████████████████████████████████████| 312735/312735 [00:15<00:00, 19689.06it/s]"
     ]
    },
    {
     "name": "stdout",
     "output_type": "stream",
     "text": [
      "The vocabulary contains 365516 unique tokens\n"
     ]
    },
    {
     "name": "stderr",
     "output_type": "stream",
     "text": [
      "\n"
     ]
    }
   ],
   "source": [
    "list_sentences_train = list(train_df[\"comment_text\"].fillna(\"NAN_WORD\").values)\n",
    "list_sentences_test = list(test_df[\"comment_text\"].fillna(\"NAN_WORD\").values)\n",
    "\n",
    "comments = process_comments(list_sentences_train + list_sentences_test, lower=True)\n",
    "print(\"The vocabulary contains {} unique tokens\".format(len(vocab)))"
   ]
  },
  {
   "cell_type": "code",
   "execution_count": 10,
   "metadata": {
    "scrolled": false
   },
   "outputs": [
    {
     "name": "stdout",
     "output_type": "stream",
     "text": [
      "Number of word vectors: 70056\n",
      "[('hrh', 0.9356023073196411), ('dowager', 0.9251927733421326), ('duchess', 0.8999292254447937), ('aragon', 0.8964951038360596), ('castile', 0.891697883605957), ('regent', 0.8903980851173401), ('rightful', 0.8897174000740051), ('eldest', 0.8883494734764099), ('dukes', 0.8880857825279236), ('elizabeth', 0.8877835869789124)]\n"
     ]
    }
   ],
   "source": [
    "from gensim.models import Word2Vec\n",
    "model = Word2Vec(comments, size=100, window=5, min_count=5, workers=16, sg=1, negative=5)\n",
    "word_vectors = model.wv\n",
    "print(\"Number of word vectors: {}\".format(len(word_vectors.vocab)))\n",
    "print(model.wv.most_similar_cosmul(positive=['woman', 'king'], negative=['man']))"
   ]
  },
  {
   "cell_type": "code",
   "execution_count": 11,
   "metadata": {},
   "outputs": [
    {
     "name": "stderr",
     "output_type": "stream",
     "text": [
      "Using TensorFlow backend.\n"
     ]
    }
   ],
   "source": [
    "MAX_NB_WORDS = len(word_vectors.vocab)\n",
    "MAX_SEQUENCE_LENGTH = 200\n",
    "\n",
    "from keras.preprocessing.sequence import pad_sequences\n",
    "\n",
    "word_index = {t[0]: i+1 for i,t in enumerate(vocab.most_common(MAX_NB_WORDS))}\n",
    "sequences = [[word_index.get(t, 0) for t in comment]\n",
    "             for comment in comments[:len(list_sentences_train)]]\n",
    "test_sequences = [[word_index.get(t, 0)  for t in comment]\n",
    "                  for comment in comments[len(list_sentences_train):]]\n",
    "\n",
    "data = pad_sequences(sequences, maxlen=MAX_SEQUENCE_LENGTH,\n",
    "                     padding=\"pre\", truncating=\"post\")"
   ]
  },
  {
   "cell_type": "code",
   "execution_count": 12,
   "metadata": {},
   "outputs": [
    {
     "name": "stdout",
     "output_type": "stream",
     "text": [
      "Shape of data tensor: (159571, 200)\n",
      "Shape of label tensor: (159571, 6)\n"
     ]
    }
   ],
   "source": [
    "list_classes = [\"toxic\", \"severe_toxic\", \"obscene\", \"threat\", \"insult\", \"identity_hate\"]\n",
    "y = train_df[list_classes].values\n",
    "print('Shape of data tensor:', data.shape)\n",
    "print('Shape of label tensor:', y.shape)"
   ]
  },
  {
   "cell_type": "code",
   "execution_count": 13,
   "metadata": {
    "scrolled": true
   },
   "outputs": [
    {
     "name": "stdout",
     "output_type": "stream",
     "text": [
      "Shape of test_data tensor: (153164, 200)\n"
     ]
    }
   ],
   "source": [
    "test_data = pad_sequences(test_sequences, maxlen=MAX_SEQUENCE_LENGTH, padding=\"pre\",\n",
    "                          truncating=\"post\")\n",
    "print('Shape of test_data tensor:', test_data.shape)"
   ]
  },
  {
   "cell_type": "code",
   "execution_count": 14,
   "metadata": {
    "scrolled": true
   },
   "outputs": [
    {
     "name": "stdout",
     "output_type": "stream",
     "text": [
      "70057\n"
     ]
    }
   ],
   "source": [
    "WV_DIM = 100\n",
    "nb_words = min(MAX_NB_WORDS, len(word_vectors.vocab))+1\n",
    "print(nb_words)\n",
    "wv_matrix = (np.random.rand(nb_words, WV_DIM) - 0.5) / 5.0"
   ]
  },
  {
   "cell_type": "code",
   "execution_count": 15,
   "metadata": {},
   "outputs": [],
   "source": [
    "for word, i in word_index.items():\n",
    "    if i >= MAX_NB_WORDS:\n",
    "        continue\n",
    "    try:\n",
    "        embedding_vector = word_vectors[word]\n",
    "        wv_matrix[i] = embedding_vector\n",
    "    except:\n",
    "        pass"
   ]
  },
  {
   "cell_type": "code",
   "execution_count": 17,
   "metadata": {},
   "outputs": [],
   "source": [
    "from keras.layers import Embedding\n",
    "wv_layer = Embedding(nb_words,\n",
    "                     WV_DIM,\n",
    "                     mask_zero=False,\n",
    "                     weights=[wv_matrix],\n",
    "                     input_length=MAX_SEQUENCE_LENGTH,\n",
    "                     trainable=False)"
   ]
  },
  {
   "cell_type": "markdown",
   "metadata": {},
   "source": [
    "## New Paradigm of Model Creation\n",
    "New paradigm in compiling model: we can call layers as functions. Conceptually: <br>\n",
    " <b> x=layer(input_shape)</b><br>\n",
    "where for input_shape defines placeholder for compilation of what data type of the input layer is accepted. Model in this paradigm assembles layers into the model<br>\n",
    "<em>Example:</em>\n",
    "<p>\n",
    "&nbsp;&nbsp;&nbsp;&nbsp; x= Input(shape=(32,))<br> \n",
    "&nbsp;&nbsp;&nbsp;&nbsp; y = Dense(16, activation='softmax')(x)<br>\n",
    "&nbsp;&nbsp;&nbsp;&nbsp; model = Model(x, y)<br>\n",
    "</p>\n",
    "Here Input is called with specific shape and then y takes its output. When Model is given input layer and output layer the chain of input/outputs is assembled into a model<br>\n",
    "\n",
    "### Layers in the Model\n",
    "As we can see embedding is done with embedding layer aas before. Next we import Keras.layers. \n",
    "<ul>\n",
    "    <li>The layer Input produces input object, i.e. it produces placeholder of a given shape. If we want to take a given type for the first layer we can specify it this way instead of inside the first layer definition. We can also specify wrapper here, e.g.\n",
    "        <ul>\n",
    "            <li>We could reshape data frame into  numpy array without doing it explicitly</li>  \n",
    "            <li>We could specify specific conversion of data type without reshaping, as for example instead of a list of unsigned integers convert it to list of integer31</li>\n",
    "        </ul>\n",
    "    </li>\n",
    "    <li>Dropout layer: instead of dropout specified inside a layer in the model it can be specified as a specific layer in which case it randomly sets input units to 0 with a frequency of rate $r$ at each step during training time. Inputs not set to 0 are scaled up by $1/(1 - r)$ such that the sum over all inputs is unchanged. Input to this layer is any tensor that is output of previous layer</li>\n",
    "    <li>Layer SpatialDropout1D does the dropout of some elements of feature maps (neurons) altogether not just their random output connections. This only applies to RNN layers as tensor inputs are of the form (samples, timesteps, channels) </li>\n",
    "    <li> Bidirectional layer: it consists of using two regular RNNs based on LSTM layers (see both imported) each of which processes the input sequence in one direction (chronologically and anti-chronologically), and then merging their representations.<br>\n",
    " &nbsp;&nbsp;&nbsp;&nbsp; - By processing a sequence both ways, a bidirectional RNN can catch patterns that may be overlooked by a unidirectional RNN<br></li>\n",
    "    <li> Batch Normalization Layer: performs normalization during training by calculating the mean and standard deviation of each input variable to a layer per mini-batch and using these statistics to perform the standardization $\\hat{x}=\\frac{x-\\mu}{\\sigma}$ for each variable in each instance in the batch. Here $\\mu$ is the mean of the variable over the bacth and $\\sigma$ is its standard deviation compute over the batch.it is applied before calling dense layer</li>   \n",
    "    </ul>"
   ]
  },
  {
   "cell_type": "code",
   "execution_count": 18,
   "metadata": {},
   "outputs": [],
   "source": [
    "from keras.layers import Dense, Input, LSTM, Dropout,SpatialDropout1D, Bidirectional\n",
    "from keras.models import Model\n",
    "from keras.optimizers import Adam\n",
    "from keras.layers.normalization import BatchNormalization\n",
    "from keras.layers import Embedding"
   ]
  },
  {
   "cell_type": "code",
   "execution_count": 19,
   "metadata": {},
   "outputs": [],
   "source": [
    "comment_input = Input(shape=(MAX_SEQUENCE_LENGTH,), dtype='int32')\n",
    "embedded_sequences = wv_layer(comment_input)\n",
    "\n",
    "# biLSTM\n",
    "embedded_sequences = SpatialDropout1D(0.2)(embedded_sequences)\n",
    "x = Bidirectional(LSTM(64, return_sequences=False))(embedded_sequences)\n",
    "\n",
    "# Output\n",
    "x = Dropout(0.2)(x)\n",
    "x = BatchNormalization()(x)\n",
    "preds = Dense(6, activation='sigmoid')(x)"
   ]
  },
  {
   "cell_type": "markdown",
   "metadata": {},
   "source": [
    "We put together the model  and compile it using backproagation computed by adam method. Adam is different to classical stochastic gradient descent: stochastic gradient descent maintains a single learning rate (alpha) for all weight updates and the learning rate does not change during training. In adam the learning rate is maintained for each network weight (parameter) and separately adapted as learning unfolds. The method computes individual adaptive learning rates for different parameters from estimates of first and second moments of the gradients. Adam calculates an exponential moving average of the gradient and the squared gradient, and the parameters beta1 and beta2 control the decay rates of these moving averages."
   ]
  },
  {
   "cell_type": "code",
   "execution_count": 20,
   "metadata": {},
   "outputs": [],
   "source": [
    "model = Model(inputs=[comment_input], outputs=preds)\n",
    "model.compile(loss='binary_crossentropy',\n",
    "              optimizer=Adam(lr=0.001, clipnorm=.25, beta_1=0.7, beta_2=0.99),\n",
    "              metrics=[])"
   ]
  },
  {
   "cell_type": "markdown",
   "metadata": {},
   "source": [
    "Lastly fit the model and plot the results as usual."
   ]
  },
  {
   "cell_type": "code",
   "execution_count": 21,
   "metadata": {},
   "outputs": [
    {
     "name": "stdout",
     "output_type": "stream",
     "text": [
      "Train on 143613 samples, validate on 15958 samples\n",
      "Epoch 1/10\n",
      "143613/143613 [==============================] - 904s 6ms/step - loss: 0.1707 - val_loss: 0.0555\n",
      "Epoch 2/10\n",
      "143613/143613 [==============================] - 1060s 7ms/step - loss: 0.0571 - val_loss: 0.0506\n",
      "Epoch 3/10\n",
      "143613/143613 [==============================] - 1051s 7ms/step - loss: 0.0524 - val_loss: 0.0481\n",
      "Epoch 4/10\n",
      "143613/143613 [==============================] - 1055s 7ms/step - loss: 0.0494 - val_loss: 0.0472\n",
      "Epoch 5/10\n",
      "143613/143613 [==============================] - 1054s 7ms/step - loss: 0.0477 - val_loss: 0.0452\n",
      "Epoch 6/10\n",
      "143613/143613 [==============================] - 1023s 7ms/step - loss: 0.0462 - val_loss: 0.0456\n",
      "Epoch 7/10\n",
      "143613/143613 [==============================] - 973s 7ms/step - loss: 0.0457 - val_loss: 0.0445\n",
      "Epoch 8/10\n",
      "143613/143613 [==============================] - 968s 7ms/step - loss: 0.0447 - val_loss: 0.0442\n",
      "Epoch 9/10\n",
      "143613/143613 [==============================] - 990s 7ms/step - loss: 0.0434 - val_loss: 0.0440\n",
      "Epoch 10/10\n",
      "143613/143613 [==============================] - 944s 7ms/step - loss: 0.0427 - val_loss: 0.0444\n"
     ]
    },
    {
     "data": {
      "image/png": "[encoded data removed]",
      "text/plain": [
       "<Figure size 864x864 with 1 Axes>"
      ]
     },
     "metadata": {
      "needs_background": "light"
     },
     "output_type": "display_data"
    },
    {
     "data": {
      "text/plain": [
       "<Figure size 432x288 with 0 Axes>"
      ]
     },
     "metadata": {},
     "output_type": "display_data"
    }
   ],
   "source": [
    "hist = model.fit([data], y, validation_split=0.1,\n",
    "                 epochs=10, batch_size=256, shuffle=True)\n",
    "history = pd.DataFrame(hist.history)\n",
    "plt.figure(figsize=(12,12))\n",
    "plt.plot(history[\"loss\"])\n",
    "plt.plot(history[\"val_loss\"])\n",
    "plt.title(\"Loss with pretrained word vectors\")\n",
    "plt.show()\n",
    "file_save = os.path.join(dir_path, 'Data/ToxicComment/plot.png')\n",
    "plt.savefig(file_save)"
   ]
  },
  {
   "cell_type": "code",
   "execution_count": null,
   "metadata": {},
   "outputs": [],
   "source": []
  }
 ],
 "metadata": {
  "kernelspec": {
   "display_name": "Python [conda env:my_tf]",
   "language": "python",
   "name": "conda-env-my_tf-py"
  },
  "language_info": {
   "codemirror_mode": {
    "name": "ipython",
    "version": 3
   },
   "file_extension": ".py",
   "mimetype": "text/x-python",
   "name": "python",
   "nbconvert_exporter": "python",
   "pygments_lexer": "ipython3",
   "version": "3.7.9"
  }
 },
 "nbformat": 4,
 "nbformat_minor": 4
}
